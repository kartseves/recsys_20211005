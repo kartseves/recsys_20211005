{
 "cells": [
  {
   "cell_type": "code",
   "execution_count": 1,
   "metadata": {},
   "outputs": [],
   "source": [
    "import pandas as pd\n",
    "import numpy as np\n",
    "\n",
    "from scipy.sparse import csr_matrix, coo_matrix\n",
    "\n",
    "from sklearn.metrics import f1_score\n",
    "\n",
    "from lightautoml.automl.presets.tabular_presets import TabularAutoML\n",
    "from lightautoml.tasks import Task\n",
    "\n",
    "import os, sys\n",
    "\n",
    "module_path = os.path.abspath(os.path.join(os.pardir))\n",
    "if module_path not in sys.path:\n",
    "    sys.path.append(module_path)\n",
    "    \n",
    "from src.metrics import precision_at_k, recall_at_k\n",
    "from src.utils import prefilter_items\n",
    "from src.recommenders import MainRecommender"
   ]
  },
  {
   "cell_type": "markdown",
   "metadata": {},
   "source": [
    "## 1. Подготовка данных"
   ]
  },
  {
   "cell_type": "code",
   "execution_count": 2,
   "metadata": {},
   "outputs": [],
   "source": [
    "data = pd.read_csv('../data/raw/retail_train.csv')\n",
    "#data = pd.read_csv('../data/retail_train_sample.csv')\n",
    "#data = data.drop(['Unnamed: 0'], axis=1)\n",
    "\n",
    "item_features = pd.read_csv('../data/raw/product.csv')\n",
    "user_features = pd.read_csv('../data/raw/hh_demographic.csv')\n",
    "\n",
    "# column processing\n",
    "item_features.columns = [col.lower() for col in item_features.columns]\n",
    "user_features.columns = [col.lower() for col in user_features.columns]\n",
    "\n",
    "item_features.rename(columns={'product_id': 'item_id'}, inplace=True)\n",
    "user_features.rename(columns={'household_key': 'user_id'}, inplace=True)"
   ]
  },
  {
   "cell_type": "code",
   "execution_count": 3,
   "metadata": {},
   "outputs": [
    {
     "name": "stdout",
     "output_type": "stream",
     "text": [
      "<class 'pandas.core.frame.DataFrame'>\n",
      "RangeIndex: 2396804 entries, 0 to 2396803\n",
      "Data columns (total 12 columns):\n",
      " #   Column             Dtype  \n",
      "---  ------             -----  \n",
      " 0   user_id            int64  \n",
      " 1   basket_id          int64  \n",
      " 2   day                int64  \n",
      " 3   item_id            int64  \n",
      " 4   quantity           int64  \n",
      " 5   sales_value        float64\n",
      " 6   store_id           int64  \n",
      " 7   retail_disc        float64\n",
      " 8   trans_time         int64  \n",
      " 9   week_no            int64  \n",
      " 10  coupon_disc        float64\n",
      " 11  coupon_match_disc  float64\n",
      "dtypes: float64(4), int64(8)\n",
      "memory usage: 219.4 MB\n"
     ]
    }
   ],
   "source": [
    "data.info()"
   ]
  },
  {
   "cell_type": "code",
   "execution_count": 4,
   "metadata": {},
   "outputs": [
    {
     "data": {
      "text/html": [
       "<div>\n",
       "<style scoped>\n",
       "    .dataframe tbody tr th:only-of-type {\n",
       "        vertical-align: middle;\n",
       "    }\n",
       "\n",
       "    .dataframe tbody tr th {\n",
       "        vertical-align: top;\n",
       "    }\n",
       "\n",
       "    .dataframe thead th {\n",
       "        text-align: right;\n",
       "    }\n",
       "</style>\n",
       "<table border=\"1\" class=\"dataframe\">\n",
       "  <thead>\n",
       "    <tr style=\"text-align: right;\">\n",
       "      <th></th>\n",
       "      <th>user_id</th>\n",
       "      <th>basket_id</th>\n",
       "      <th>day</th>\n",
       "      <th>item_id</th>\n",
       "      <th>quantity</th>\n",
       "      <th>sales_value</th>\n",
       "      <th>store_id</th>\n",
       "      <th>retail_disc</th>\n",
       "      <th>trans_time</th>\n",
       "      <th>week_no</th>\n",
       "      <th>coupon_disc</th>\n",
       "      <th>coupon_match_disc</th>\n",
       "    </tr>\n",
       "  </thead>\n",
       "  <tbody>\n",
       "    <tr>\n",
       "      <th>0</th>\n",
       "      <td>2375</td>\n",
       "      <td>26984851472</td>\n",
       "      <td>1</td>\n",
       "      <td>1004906</td>\n",
       "      <td>1</td>\n",
       "      <td>1.39</td>\n",
       "      <td>364</td>\n",
       "      <td>-0.60</td>\n",
       "      <td>1631</td>\n",
       "      <td>1</td>\n",
       "      <td>0.00</td>\n",
       "      <td>0.00</td>\n",
       "    </tr>\n",
       "    <tr>\n",
       "      <th>151</th>\n",
       "      <td>718</td>\n",
       "      <td>26985360571</td>\n",
       "      <td>1</td>\n",
       "      <td>934676</td>\n",
       "      <td>1</td>\n",
       "      <td>1.37</td>\n",
       "      <td>324</td>\n",
       "      <td>-0.42</td>\n",
       "      <td>1115</td>\n",
       "      <td>1</td>\n",
       "      <td>-1.00</td>\n",
       "      <td>0.00</td>\n",
       "    </tr>\n",
       "    <tr>\n",
       "      <th>153</th>\n",
       "      <td>718</td>\n",
       "      <td>26985360571</td>\n",
       "      <td>1</td>\n",
       "      <td>947849</td>\n",
       "      <td>1</td>\n",
       "      <td>1.25</td>\n",
       "      <td>324</td>\n",
       "      <td>-0.44</td>\n",
       "      <td>1115</td>\n",
       "      <td>1</td>\n",
       "      <td>0.00</td>\n",
       "      <td>0.00</td>\n",
       "    </tr>\n",
       "    <tr>\n",
       "      <th>154</th>\n",
       "      <td>718</td>\n",
       "      <td>26985360571</td>\n",
       "      <td>1</td>\n",
       "      <td>948756</td>\n",
       "      <td>3</td>\n",
       "      <td>2.12</td>\n",
       "      <td>324</td>\n",
       "      <td>-0.90</td>\n",
       "      <td>1115</td>\n",
       "      <td>1</td>\n",
       "      <td>-0.75</td>\n",
       "      <td>-0.25</td>\n",
       "    </tr>\n",
       "    <tr>\n",
       "      <th>155</th>\n",
       "      <td>718</td>\n",
       "      <td>26985360571</td>\n",
       "      <td>1</td>\n",
       "      <td>950439</td>\n",
       "      <td>1</td>\n",
       "      <td>1.00</td>\n",
       "      <td>324</td>\n",
       "      <td>-0.59</td>\n",
       "      <td>1115</td>\n",
       "      <td>1</td>\n",
       "      <td>0.00</td>\n",
       "      <td>0.00</td>\n",
       "    </tr>\n",
       "  </tbody>\n",
       "</table>\n",
       "</div>"
      ],
      "text/plain": [
       "     user_id    basket_id  day  item_id  quantity  sales_value  store_id  \\\n",
       "0       2375  26984851472    1  1004906         1         1.39       364   \n",
       "151      718  26985360571    1   934676         1         1.37       324   \n",
       "153      718  26985360571    1   947849         1         1.25       324   \n",
       "154      718  26985360571    1   948756         3         2.12       324   \n",
       "155      718  26985360571    1   950439         1         1.00       324   \n",
       "\n",
       "     retail_disc  trans_time  week_no  coupon_disc  coupon_match_disc  \n",
       "0          -0.60        1631        1         0.00               0.00  \n",
       "151        -0.42        1115        1        -1.00               0.00  \n",
       "153        -0.44        1115        1         0.00               0.00  \n",
       "154        -0.90        1115        1        -0.75              -0.25  \n",
       "155        -0.59        1115        1         0.00               0.00  "
      ]
     },
     "execution_count": 4,
     "metadata": {},
     "output_type": "execute_result"
    }
   ],
   "source": [
    "data = data.sort_values('day')\n",
    "data.head()"
   ]
  },
  {
   "cell_type": "markdown",
   "metadata": {},
   "source": [
    "### а) Новые признаки пользотелей-товаров"
   ]
  },
  {
   "cell_type": "code",
   "execution_count": 5,
   "metadata": {},
   "outputs": [],
   "source": [
    "def get_usr_itm_feats(input_data):\n",
    "    \n",
    "    # час совершения транзакции\n",
    "    data = input_data.copy()\n",
    "    data['hour'] = data['trans_time'] // 100\n",
    "    user_item_features = data.groupby(['user_id', 'item_id'])['hour'].median().reset_index()\n",
    "    user_item_features.columns = ['user_id', 'item_id', 'median_sales_hour']\n",
    "    \n",
    "    # день недели совершения транзакции\n",
    "    data['weekday'] = data['day'] % 7\n",
    "    df = data.groupby(['user_id', 'item_id'])['weekday'].median().reset_index()\n",
    "    df.columns = ['user_id', 'item_id', 'median_weekday']\n",
    "    user_item_features = user_item_features.merge(df, on=['user_id', 'item_id'])\n",
    "    \n",
    "    # cреднее кол-во дней между покупками\n",
    "    df = data.groupby('user_id')['day'].nunique().reset_index()\n",
    "    df['mean_visits_interval'] = (data.groupby('user_id')['day'].max() - data.groupby('user_id')['day'].min()) / df['day']\n",
    "    user_item_features = user_item_features.merge(df[['user_id', 'mean_visits_interval']], on=['user_id'])\n",
    "    \n",
    "    # средний чек корзины клиента\n",
    "    df = data.groupby(['user_id', 'basket_id'])['sales_value'].sum().reset_index()\n",
    "    df = df.groupby('user_id')['sales_value'].mean().reset_index()\n",
    "    df.columns = ['user_id', 'mean_check']\n",
    "    user_item_features = user_item_features.merge(df, on=['user_id'])\n",
    "    \n",
    "    # кол-во магазинов, в которых продавался товар\n",
    "    df = data.groupby(['item_id'])['store_id'].nunique().reset_index()\n",
    "    df.columns = ['item_id', 'n_stores']\n",
    "    user_item_features = user_item_features.merge(df, on=['item_id'])\n",
    "    \n",
    "    # кол-во уникальных товаров, купленных клиентом\n",
    "    df = data.groupby(['user_id'])['item_id'].nunique().reset_index()\n",
    "    df.columns = ['user_id', 'n_items']\n",
    "    user_item_features = user_item_features.merge(df, on=['user_id'])\n",
    "    \n",
    "    # кол-во транзакций клиента\n",
    "    df = data.groupby(['user_id'])['item_id'].count().reset_index()\n",
    "    df.columns = ['user_id', 'n_transactions']\n",
    "    user_item_features = user_item_features.merge(df, on=['user_id'])\n",
    "    \n",
    "    # mean / max / std кол-ва уникальных товаров в корзине клиента\n",
    "    df = data.groupby(['user_id', 'basket_id'])['item_id'].nunique().reset_index()\n",
    "    df1 = df.groupby('user_id')['item_id'].mean().reset_index()\n",
    "    df1.columns = ['user_id', 'mean_n_items_basket']\n",
    "    user_item_features = user_item_features.merge(df1, on=['user_id'])\n",
    "\n",
    "    df2 = df.groupby('user_id')['item_id'].max().reset_index()\n",
    "    df2.columns = ['user_id', 'max_n_items_basket']\n",
    "    user_item_features = user_item_features.merge(df2, on=['user_id'])\n",
    "\n",
    "    df3 = df.groupby('user_id')['item_id'].std().reset_index()\n",
    "    df3.columns = ['user_id', 'std_n_items_basket']\n",
    "    user_item_features = user_item_features.merge(df3, on=['user_id'])\n",
    "    \n",
    "    # mean / max / std кол-ва уникальных категорий в корзине клиента\n",
    "    data = data.merge(item_features[['item_id', 'commodity_desc']], on=['item_id'])\n",
    "    df = data.groupby(['user_id', 'basket_id'])['commodity_desc'].nunique().reset_index()\n",
    "    df1 = df.groupby('user_id')['commodity_desc'].mean().reset_index()\n",
    "    df1.columns = ['user_id', 'mean_n_item_categories_basket']\n",
    "    user_item_features = user_item_features.merge(df1, on=['user_id'])\n",
    "\n",
    "    df2 = df.groupby('user_id')['commodity_desc'].max().reset_index()\n",
    "    df2.columns = ['user_id', 'max_n_item_categories_basket']\n",
    "    user_item_features = user_item_features.merge(df2, on=['user_id'])\n",
    "\n",
    "    df3 = df.groupby('user_id')['commodity_desc'].std().reset_index()\n",
    "    df3.columns = ['user_id', 'std_n_item_categories_basket']\n",
    "    user_item_features = user_item_features.merge(df3, on=['user_id'])\n",
    "    \n",
    "    #Последний день когда было взаимодействие пользователя с товаром\n",
    "    usr_itm_last_rec_day = data.groupby(['user_id', 'item_id'])['day'].max().reset_index()\n",
    "    usr_itm_last_rec_day.columns=['user_id', 'item_id', 'last_rec_day']\n",
    "    usr_itm_last_rec_day['last_rec_day'].astype('int64')\n",
    "    user_item_features = user_item_features.merge(usr_itm_last_rec_day, on=['user_id', 'item_id'])\n",
    "    \n",
    "    return user_item_features"
   ]
  },
  {
   "cell_type": "code",
   "execution_count": 6,
   "metadata": {},
   "outputs": [
    {
     "data": {
      "text/html": [
       "<div>\n",
       "<style scoped>\n",
       "    .dataframe tbody tr th:only-of-type {\n",
       "        vertical-align: middle;\n",
       "    }\n",
       "\n",
       "    .dataframe tbody tr th {\n",
       "        vertical-align: top;\n",
       "    }\n",
       "\n",
       "    .dataframe thead th {\n",
       "        text-align: right;\n",
       "    }\n",
       "</style>\n",
       "<table border=\"1\" class=\"dataframe\">\n",
       "  <thead>\n",
       "    <tr style=\"text-align: right;\">\n",
       "      <th></th>\n",
       "      <th>user_id</th>\n",
       "      <th>item_id</th>\n",
       "      <th>median_sales_hour</th>\n",
       "      <th>median_weekday</th>\n",
       "      <th>mean_visits_interval</th>\n",
       "      <th>mean_check</th>\n",
       "      <th>n_stores</th>\n",
       "      <th>n_items</th>\n",
       "      <th>n_transactions</th>\n",
       "      <th>mean_n_items_basket</th>\n",
       "      <th>max_n_items_basket</th>\n",
       "      <th>std_n_items_basket</th>\n",
       "      <th>mean_n_item_categories_basket</th>\n",
       "      <th>max_n_item_categories_basket</th>\n",
       "      <th>std_n_item_categories_basket</th>\n",
       "      <th>last_rec_day</th>\n",
       "    </tr>\n",
       "  </thead>\n",
       "  <tbody>\n",
       "    <tr>\n",
       "      <th>0</th>\n",
       "      <td>1</td>\n",
       "      <td>819312</td>\n",
       "      <td>18.0</td>\n",
       "      <td>4.0</td>\n",
       "      <td>NaN</td>\n",
       "      <td>50.125443</td>\n",
       "      <td>3</td>\n",
       "      <td>627</td>\n",
       "      <td>1589</td>\n",
       "      <td>20.113924</td>\n",
       "      <td>55</td>\n",
       "      <td>15.409777</td>\n",
       "      <td>15.873418</td>\n",
       "      <td>41</td>\n",
       "      <td>11.636996</td>\n",
       "      <td>536</td>\n",
       "    </tr>\n",
       "    <tr>\n",
       "      <th>1</th>\n",
       "      <td>1</td>\n",
       "      <td>820165</td>\n",
       "      <td>12.0</td>\n",
       "      <td>1.5</td>\n",
       "      <td>NaN</td>\n",
       "      <td>50.125443</td>\n",
       "      <td>110</td>\n",
       "      <td>627</td>\n",
       "      <td>1589</td>\n",
       "      <td>20.113924</td>\n",
       "      <td>55</td>\n",
       "      <td>15.409777</td>\n",
       "      <td>15.873418</td>\n",
       "      <td>41</td>\n",
       "      <td>11.636996</td>\n",
       "      <td>610</td>\n",
       "    </tr>\n",
       "    <tr>\n",
       "      <th>2</th>\n",
       "      <td>1</td>\n",
       "      <td>821815</td>\n",
       "      <td>16.0</td>\n",
       "      <td>3.0</td>\n",
       "      <td>NaN</td>\n",
       "      <td>50.125443</td>\n",
       "      <td>18</td>\n",
       "      <td>627</td>\n",
       "      <td>1589</td>\n",
       "      <td>20.113924</td>\n",
       "      <td>55</td>\n",
       "      <td>15.409777</td>\n",
       "      <td>15.873418</td>\n",
       "      <td>41</td>\n",
       "      <td>11.636996</td>\n",
       "      <td>311</td>\n",
       "    </tr>\n",
       "    <tr>\n",
       "      <th>3</th>\n",
       "      <td>1</td>\n",
       "      <td>821867</td>\n",
       "      <td>12.0</td>\n",
       "      <td>2.0</td>\n",
       "      <td>NaN</td>\n",
       "      <td>50.125443</td>\n",
       "      <td>85</td>\n",
       "      <td>627</td>\n",
       "      <td>1589</td>\n",
       "      <td>20.113924</td>\n",
       "      <td>55</td>\n",
       "      <td>15.409777</td>\n",
       "      <td>15.873418</td>\n",
       "      <td>41</td>\n",
       "      <td>11.636996</td>\n",
       "      <td>639</td>\n",
       "    </tr>\n",
       "    <tr>\n",
       "      <th>4</th>\n",
       "      <td>1</td>\n",
       "      <td>823721</td>\n",
       "      <td>13.0</td>\n",
       "      <td>4.0</td>\n",
       "      <td>NaN</td>\n",
       "      <td>50.125443</td>\n",
       "      <td>101</td>\n",
       "      <td>627</td>\n",
       "      <td>1589</td>\n",
       "      <td>20.113924</td>\n",
       "      <td>55</td>\n",
       "      <td>15.409777</td>\n",
       "      <td>15.873418</td>\n",
       "      <td>41</td>\n",
       "      <td>11.636996</td>\n",
       "      <td>291</td>\n",
       "    </tr>\n",
       "  </tbody>\n",
       "</table>\n",
       "</div>"
      ],
      "text/plain": [
       "   user_id  item_id  median_sales_hour  median_weekday  mean_visits_interval  \\\n",
       "0        1   819312               18.0             4.0                   NaN   \n",
       "1        1   820165               12.0             1.5                   NaN   \n",
       "2        1   821815               16.0             3.0                   NaN   \n",
       "3        1   821867               12.0             2.0                   NaN   \n",
       "4        1   823721               13.0             4.0                   NaN   \n",
       "\n",
       "   mean_check  n_stores  n_items  n_transactions  mean_n_items_basket  \\\n",
       "0   50.125443         3      627            1589            20.113924   \n",
       "1   50.125443       110      627            1589            20.113924   \n",
       "2   50.125443        18      627            1589            20.113924   \n",
       "3   50.125443        85      627            1589            20.113924   \n",
       "4   50.125443       101      627            1589            20.113924   \n",
       "\n",
       "   max_n_items_basket  std_n_items_basket  mean_n_item_categories_basket  \\\n",
       "0                  55           15.409777                      15.873418   \n",
       "1                  55           15.409777                      15.873418   \n",
       "2                  55           15.409777                      15.873418   \n",
       "3                  55           15.409777                      15.873418   \n",
       "4                  55           15.409777                      15.873418   \n",
       "\n",
       "   max_n_item_categories_basket  std_n_item_categories_basket  last_rec_day  \n",
       "0                            41                     11.636996           536  \n",
       "1                            41                     11.636996           610  \n",
       "2                            41                     11.636996           311  \n",
       "3                            41                     11.636996           639  \n",
       "4                            41                     11.636996           291  "
      ]
     },
     "execution_count": 6,
     "metadata": {},
     "output_type": "execute_result"
    }
   ],
   "source": [
    "usr_itm_feats = get_usr_itm_feats(data)\n",
    "usr_itm_feats.head(5)"
   ]
  },
  {
   "cell_type": "markdown",
   "metadata": {},
   "source": [
    "### б) Новые признаки товаров "
   ]
  },
  {
   "cell_type": "code",
   "execution_count": 7,
   "metadata": {},
   "outputs": [],
   "source": [
    "# средняя цена за товар\n",
    "data_tmp = data.copy()\n",
    "data_tmp = data_tmp[data_tmp['quantity'] > 0]\n",
    "data_tmp['price'] = data_tmp['sales_value'] / data_tmp['quantity']"
   ]
  },
  {
   "cell_type": "code",
   "execution_count": 8,
   "metadata": {},
   "outputs": [
    {
     "data": {
      "text/html": [
       "<div>\n",
       "<style scoped>\n",
       "    .dataframe tbody tr th:only-of-type {\n",
       "        vertical-align: middle;\n",
       "    }\n",
       "\n",
       "    .dataframe tbody tr th {\n",
       "        vertical-align: top;\n",
       "    }\n",
       "\n",
       "    .dataframe thead th {\n",
       "        text-align: right;\n",
       "    }\n",
       "</style>\n",
       "<table border=\"1\" class=\"dataframe\">\n",
       "  <thead>\n",
       "    <tr style=\"text-align: right;\">\n",
       "      <th></th>\n",
       "      <th>item_id</th>\n",
       "      <th>price</th>\n",
       "    </tr>\n",
       "  </thead>\n",
       "  <tbody>\n",
       "    <tr>\n",
       "      <th>0</th>\n",
       "      <td>25671</td>\n",
       "      <td>3.49</td>\n",
       "    </tr>\n",
       "    <tr>\n",
       "      <th>1</th>\n",
       "      <td>26081</td>\n",
       "      <td>0.99</td>\n",
       "    </tr>\n",
       "  </tbody>\n",
       "</table>\n",
       "</div>"
      ],
      "text/plain": [
       "   item_id  price\n",
       "0    25671   3.49\n",
       "1    26081   0.99"
      ]
     },
     "execution_count": 8,
     "metadata": {},
     "output_type": "execute_result"
    }
   ],
   "source": [
    "item_price_mean = data_tmp.groupby('item_id')['price'].mean().reset_index()\n",
    "item_price_mean.columns=['item_id', 'price']\n",
    "item_price_mean.head(2)"
   ]
  },
  {
   "cell_type": "code",
   "execution_count": 9,
   "metadata": {},
   "outputs": [
    {
     "data": {
      "text/html": [
       "<div>\n",
       "<style scoped>\n",
       "    .dataframe tbody tr th:only-of-type {\n",
       "        vertical-align: middle;\n",
       "    }\n",
       "\n",
       "    .dataframe tbody tr th {\n",
       "        vertical-align: top;\n",
       "    }\n",
       "\n",
       "    .dataframe thead th {\n",
       "        text-align: right;\n",
       "    }\n",
       "</style>\n",
       "<table border=\"1\" class=\"dataframe\">\n",
       "  <thead>\n",
       "    <tr style=\"text-align: right;\">\n",
       "      <th></th>\n",
       "      <th>item_id</th>\n",
       "      <th>price</th>\n",
       "    </tr>\n",
       "  </thead>\n",
       "  <tbody>\n",
       "    <tr>\n",
       "      <th>25092</th>\n",
       "      <td>993339</td>\n",
       "      <td>1.982308</td>\n",
       "    </tr>\n",
       "  </tbody>\n",
       "</table>\n",
       "</div>"
      ],
      "text/plain": [
       "       item_id     price\n",
       "25092   993339  1.982308"
      ]
     },
     "execution_count": 9,
     "metadata": {},
     "output_type": "execute_result"
    }
   ],
   "source": [
    "item_price_mean[item_price_mean['item_id']==993339]"
   ]
  },
  {
   "cell_type": "code",
   "execution_count": 10,
   "metadata": {},
   "outputs": [
    {
     "data": {
      "text/html": [
       "<div>\n",
       "<style scoped>\n",
       "    .dataframe tbody tr th:only-of-type {\n",
       "        vertical-align: middle;\n",
       "    }\n",
       "\n",
       "    .dataframe tbody tr th {\n",
       "        vertical-align: top;\n",
       "    }\n",
       "\n",
       "    .dataframe thead th {\n",
       "        text-align: right;\n",
       "    }\n",
       "</style>\n",
       "<table border=\"1\" class=\"dataframe\">\n",
       "  <thead>\n",
       "    <tr style=\"text-align: right;\">\n",
       "      <th></th>\n",
       "      <th>item_id</th>\n",
       "      <th>manufacturer</th>\n",
       "      <th>department</th>\n",
       "      <th>brand</th>\n",
       "      <th>commodity_desc</th>\n",
       "      <th>sub_commodity_desc</th>\n",
       "      <th>curr_size_of_product</th>\n",
       "      <th>price</th>\n",
       "    </tr>\n",
       "  </thead>\n",
       "  <tbody>\n",
       "    <tr>\n",
       "      <th>0</th>\n",
       "      <td>25671</td>\n",
       "      <td>2</td>\n",
       "      <td>GROCERY</td>\n",
       "      <td>National</td>\n",
       "      <td>FRZN ICE</td>\n",
       "      <td>ICE - CRUSHED/CUBED</td>\n",
       "      <td>22 LB</td>\n",
       "      <td>3.49</td>\n",
       "    </tr>\n",
       "    <tr>\n",
       "      <th>1</th>\n",
       "      <td>26081</td>\n",
       "      <td>2</td>\n",
       "      <td>MISC. TRANS.</td>\n",
       "      <td>National</td>\n",
       "      <td>NO COMMODITY DESCRIPTION</td>\n",
       "      <td>NO SUBCOMMODITY DESCRIPTION</td>\n",
       "      <td></td>\n",
       "      <td>0.99</td>\n",
       "    </tr>\n",
       "  </tbody>\n",
       "</table>\n",
       "</div>"
      ],
      "text/plain": [
       "   item_id  manufacturer    department     brand            commodity_desc  \\\n",
       "0    25671             2       GROCERY  National                  FRZN ICE   \n",
       "1    26081             2  MISC. TRANS.  National  NO COMMODITY DESCRIPTION   \n",
       "\n",
       "            sub_commodity_desc curr_size_of_product  price  \n",
       "0          ICE - CRUSHED/CUBED                22 LB   3.49  \n",
       "1  NO SUBCOMMODITY DESCRIPTION                        0.99  "
      ]
     },
     "execution_count": 10,
     "metadata": {},
     "output_type": "execute_result"
    }
   ],
   "source": [
    "item_features = item_features.merge(item_price_mean, on='item_id', how='left')\n",
    "item_features.head(2)"
   ]
  },
  {
   "cell_type": "code",
   "execution_count": 11,
   "metadata": {},
   "outputs": [
    {
     "data": {
      "text/html": [
       "<div>\n",
       "<style scoped>\n",
       "    .dataframe tbody tr th:only-of-type {\n",
       "        vertical-align: middle;\n",
       "    }\n",
       "\n",
       "    .dataframe tbody tr th {\n",
       "        vertical-align: top;\n",
       "    }\n",
       "\n",
       "    .dataframe thead th {\n",
       "        text-align: right;\n",
       "    }\n",
       "</style>\n",
       "<table border=\"1\" class=\"dataframe\">\n",
       "  <thead>\n",
       "    <tr style=\"text-align: right;\">\n",
       "      <th></th>\n",
       "      <th>item_id</th>\n",
       "      <th>last_sales_day</th>\n",
       "    </tr>\n",
       "  </thead>\n",
       "  <tbody>\n",
       "    <tr>\n",
       "      <th>0</th>\n",
       "      <td>25671</td>\n",
       "      <td>410</td>\n",
       "    </tr>\n",
       "    <tr>\n",
       "      <th>1</th>\n",
       "      <td>26081</td>\n",
       "      <td>250</td>\n",
       "    </tr>\n",
       "  </tbody>\n",
       "</table>\n",
       "</div>"
      ],
      "text/plain": [
       "   item_id  last_sales_day\n",
       "0    25671             410\n",
       "1    26081             250"
      ]
     },
     "execution_count": 11,
     "metadata": {},
     "output_type": "execute_result"
    }
   ],
   "source": [
    "#Последний день когда товар покупался\n",
    "item_last_sales_day = data_tmp.groupby('item_id')['day'].max().reset_index()\n",
    "item_last_sales_day.columns=['item_id', 'last_sales_day']\n",
    "item_last_sales_day.head(2)"
   ]
  },
  {
   "cell_type": "code",
   "execution_count": 12,
   "metadata": {},
   "outputs": [
    {
     "data": {
      "text/html": [
       "<div>\n",
       "<style scoped>\n",
       "    .dataframe tbody tr th:only-of-type {\n",
       "        vertical-align: middle;\n",
       "    }\n",
       "\n",
       "    .dataframe tbody tr th {\n",
       "        vertical-align: top;\n",
       "    }\n",
       "\n",
       "    .dataframe thead th {\n",
       "        text-align: right;\n",
       "    }\n",
       "</style>\n",
       "<table border=\"1\" class=\"dataframe\">\n",
       "  <thead>\n",
       "    <tr style=\"text-align: right;\">\n",
       "      <th></th>\n",
       "      <th>item_id</th>\n",
       "      <th>last_sales_day</th>\n",
       "    </tr>\n",
       "  </thead>\n",
       "  <tbody>\n",
       "    <tr>\n",
       "      <th>25092</th>\n",
       "      <td>993339</td>\n",
       "      <td>663</td>\n",
       "    </tr>\n",
       "  </tbody>\n",
       "</table>\n",
       "</div>"
      ],
      "text/plain": [
       "       item_id  last_sales_day\n",
       "25092   993339             663"
      ]
     },
     "execution_count": 12,
     "metadata": {},
     "output_type": "execute_result"
    }
   ],
   "source": [
    "item_last_sales_day[item_last_sales_day['item_id']==993339]"
   ]
  },
  {
   "cell_type": "code",
   "execution_count": 13,
   "metadata": {},
   "outputs": [
    {
     "data": {
      "text/html": [
       "<div>\n",
       "<style scoped>\n",
       "    .dataframe tbody tr th:only-of-type {\n",
       "        vertical-align: middle;\n",
       "    }\n",
       "\n",
       "    .dataframe tbody tr th {\n",
       "        vertical-align: top;\n",
       "    }\n",
       "\n",
       "    .dataframe thead th {\n",
       "        text-align: right;\n",
       "    }\n",
       "</style>\n",
       "<table border=\"1\" class=\"dataframe\">\n",
       "  <thead>\n",
       "    <tr style=\"text-align: right;\">\n",
       "      <th></th>\n",
       "      <th>item_id</th>\n",
       "      <th>manufacturer</th>\n",
       "      <th>department</th>\n",
       "      <th>brand</th>\n",
       "      <th>commodity_desc</th>\n",
       "      <th>sub_commodity_desc</th>\n",
       "      <th>curr_size_of_product</th>\n",
       "      <th>price</th>\n",
       "      <th>last_sales_day</th>\n",
       "    </tr>\n",
       "  </thead>\n",
       "  <tbody>\n",
       "    <tr>\n",
       "      <th>0</th>\n",
       "      <td>25671</td>\n",
       "      <td>2</td>\n",
       "      <td>GROCERY</td>\n",
       "      <td>National</td>\n",
       "      <td>FRZN ICE</td>\n",
       "      <td>ICE - CRUSHED/CUBED</td>\n",
       "      <td>22 LB</td>\n",
       "      <td>3.49</td>\n",
       "      <td>410.0</td>\n",
       "    </tr>\n",
       "    <tr>\n",
       "      <th>1</th>\n",
       "      <td>26081</td>\n",
       "      <td>2</td>\n",
       "      <td>MISC. TRANS.</td>\n",
       "      <td>National</td>\n",
       "      <td>NO COMMODITY DESCRIPTION</td>\n",
       "      <td>NO SUBCOMMODITY DESCRIPTION</td>\n",
       "      <td></td>\n",
       "      <td>0.99</td>\n",
       "      <td>250.0</td>\n",
       "    </tr>\n",
       "  </tbody>\n",
       "</table>\n",
       "</div>"
      ],
      "text/plain": [
       "   item_id  manufacturer    department     brand            commodity_desc  \\\n",
       "0    25671             2       GROCERY  National                  FRZN ICE   \n",
       "1    26081             2  MISC. TRANS.  National  NO COMMODITY DESCRIPTION   \n",
       "\n",
       "            sub_commodity_desc curr_size_of_product  price  last_sales_day  \n",
       "0          ICE - CRUSHED/CUBED                22 LB   3.49           410.0  \n",
       "1  NO SUBCOMMODITY DESCRIPTION                        0.99           250.0  "
      ]
     },
     "execution_count": 13,
     "metadata": {},
     "output_type": "execute_result"
    }
   ],
   "source": [
    "item_features = item_features.merge(item_last_sales_day, on='item_id', how='left')\n",
    "item_features.head(2)"
   ]
  },
  {
   "cell_type": "code",
   "execution_count": 14,
   "metadata": {},
   "outputs": [
    {
     "data": {
      "text/html": [
       "<div>\n",
       "<style scoped>\n",
       "    .dataframe tbody tr th:only-of-type {\n",
       "        vertical-align: middle;\n",
       "    }\n",
       "\n",
       "    .dataframe tbody tr th {\n",
       "        vertical-align: top;\n",
       "    }\n",
       "\n",
       "    .dataframe thead th {\n",
       "        text-align: right;\n",
       "    }\n",
       "</style>\n",
       "<table border=\"1\" class=\"dataframe\">\n",
       "  <thead>\n",
       "    <tr style=\"text-align: right;\">\n",
       "      <th></th>\n",
       "      <th>item_id</th>\n",
       "      <th>manufacturer</th>\n",
       "      <th>department</th>\n",
       "      <th>brand</th>\n",
       "      <th>commodity_desc</th>\n",
       "      <th>sub_commodity_desc</th>\n",
       "      <th>curr_size_of_product</th>\n",
       "      <th>price</th>\n",
       "      <th>last_sales_day</th>\n",
       "    </tr>\n",
       "  </thead>\n",
       "  <tbody>\n",
       "    <tr>\n",
       "      <th>25561</th>\n",
       "      <td>993339</td>\n",
       "      <td>69</td>\n",
       "      <td>GROCERY</td>\n",
       "      <td>Private</td>\n",
       "      <td>YOGURT</td>\n",
       "      <td>YOGURT NOT MULTI-PACKS</td>\n",
       "      <td>32 OZ</td>\n",
       "      <td>1.982308</td>\n",
       "      <td>663.0</td>\n",
       "    </tr>\n",
       "  </tbody>\n",
       "</table>\n",
       "</div>"
      ],
      "text/plain": [
       "       item_id  manufacturer department    brand commodity_desc  \\\n",
       "25561   993339            69    GROCERY  Private         YOGURT   \n",
       "\n",
       "           sub_commodity_desc curr_size_of_product     price  last_sales_day  \n",
       "25561  YOGURT NOT MULTI-PACKS                32 OZ  1.982308           663.0  "
      ]
     },
     "execution_count": 14,
     "metadata": {},
     "output_type": "execute_result"
    }
   ],
   "source": [
    "item_features[item_features['item_id']==993339]"
   ]
  },
  {
   "cell_type": "code",
   "execution_count": 15,
   "metadata": {},
   "outputs": [
    {
     "name": "stdout",
     "output_type": "stream",
     "text": [
      "<class 'pandas.core.frame.DataFrame'>\n",
      "Int64Index: 92353 entries, 0 to 92352\n",
      "Data columns (total 9 columns):\n",
      " #   Column                Non-Null Count  Dtype  \n",
      "---  ------                --------------  -----  \n",
      " 0   item_id               92353 non-null  int64  \n",
      " 1   manufacturer          92353 non-null  int64  \n",
      " 2   department            92353 non-null  object \n",
      " 3   brand                 92353 non-null  object \n",
      " 4   commodity_desc        92353 non-null  object \n",
      " 5   sub_commodity_desc    92353 non-null  object \n",
      " 6   curr_size_of_product  92353 non-null  object \n",
      " 7   price                 88743 non-null  float64\n",
      " 8   last_sales_day        88743 non-null  float64\n",
      "dtypes: float64(2), int64(2), object(5)\n",
      "memory usage: 7.0+ MB\n"
     ]
    }
   ],
   "source": [
    "item_features.info()"
   ]
  },
  {
   "cell_type": "markdown",
   "metadata": {},
   "source": [
    "### в) Новые признаки пользователя"
   ]
  },
  {
   "cell_type": "code",
   "execution_count": 16,
   "metadata": {},
   "outputs": [
    {
     "data": {
      "text/html": [
       "<div>\n",
       "<style scoped>\n",
       "    .dataframe tbody tr th:only-of-type {\n",
       "        vertical-align: middle;\n",
       "    }\n",
       "\n",
       "    .dataframe tbody tr th {\n",
       "        vertical-align: top;\n",
       "    }\n",
       "\n",
       "    .dataframe thead th {\n",
       "        text-align: right;\n",
       "    }\n",
       "</style>\n",
       "<table border=\"1\" class=\"dataframe\">\n",
       "  <thead>\n",
       "    <tr style=\"text-align: right;\">\n",
       "      <th></th>\n",
       "      <th>age_desc</th>\n",
       "      <th>marital_status_code</th>\n",
       "      <th>income_desc</th>\n",
       "      <th>homeowner_desc</th>\n",
       "      <th>hh_comp_desc</th>\n",
       "      <th>household_size_desc</th>\n",
       "      <th>kid_category_desc</th>\n",
       "      <th>user_id</th>\n",
       "      <th>has_kid</th>\n",
       "    </tr>\n",
       "  </thead>\n",
       "  <tbody>\n",
       "    <tr>\n",
       "      <th>0</th>\n",
       "      <td>65+</td>\n",
       "      <td>A</td>\n",
       "      <td>35-49K</td>\n",
       "      <td>Homeowner</td>\n",
       "      <td>2 Adults No Kids</td>\n",
       "      <td>2</td>\n",
       "      <td>None/Unknown</td>\n",
       "      <td>1</td>\n",
       "      <td>False</td>\n",
       "    </tr>\n",
       "    <tr>\n",
       "      <th>1</th>\n",
       "      <td>45-54</td>\n",
       "      <td>A</td>\n",
       "      <td>50-74K</td>\n",
       "      <td>Homeowner</td>\n",
       "      <td>2 Adults No Kids</td>\n",
       "      <td>2</td>\n",
       "      <td>None/Unknown</td>\n",
       "      <td>7</td>\n",
       "      <td>False</td>\n",
       "    </tr>\n",
       "  </tbody>\n",
       "</table>\n",
       "</div>"
      ],
      "text/plain": [
       "  age_desc marital_status_code income_desc homeowner_desc      hh_comp_desc  \\\n",
       "0      65+                   A      35-49K      Homeowner  2 Adults No Kids   \n",
       "1    45-54                   A      50-74K      Homeowner  2 Adults No Kids   \n",
       "\n",
       "  household_size_desc kid_category_desc  user_id  has_kid  \n",
       "0                   2      None/Unknown        1    False  \n",
       "1                   2      None/Unknown        7    False  "
      ]
     },
     "execution_count": 16,
     "metadata": {},
     "output_type": "execute_result"
    }
   ],
   "source": [
    "#Есть ли дети\n",
    "user_features[\"has_kid\"] = user_features[\"kid_category_desc\"].isin(['1','2', '3+'])\n",
    "user_features.head(2)"
   ]
  },
  {
   "cell_type": "code",
   "execution_count": 17,
   "metadata": {},
   "outputs": [
    {
     "data": {
      "text/html": [
       "<div>\n",
       "<style scoped>\n",
       "    .dataframe tbody tr th:only-of-type {\n",
       "        vertical-align: middle;\n",
       "    }\n",
       "\n",
       "    .dataframe tbody tr th {\n",
       "        vertical-align: top;\n",
       "    }\n",
       "\n",
       "    .dataframe thead th {\n",
       "        text-align: right;\n",
       "    }\n",
       "</style>\n",
       "<table border=\"1\" class=\"dataframe\">\n",
       "  <thead>\n",
       "    <tr style=\"text-align: right;\">\n",
       "      <th></th>\n",
       "      <th>age_desc</th>\n",
       "      <th>marital_status_code</th>\n",
       "      <th>income_desc</th>\n",
       "      <th>homeowner_desc</th>\n",
       "      <th>hh_comp_desc</th>\n",
       "      <th>household_size_desc</th>\n",
       "      <th>kid_category_desc</th>\n",
       "      <th>user_id</th>\n",
       "      <th>has_kid</th>\n",
       "      <th>income</th>\n",
       "    </tr>\n",
       "  </thead>\n",
       "  <tbody>\n",
       "    <tr>\n",
       "      <th>0</th>\n",
       "      <td>65+</td>\n",
       "      <td>A</td>\n",
       "      <td>35-49K</td>\n",
       "      <td>Homeowner</td>\n",
       "      <td>2 Adults No Kids</td>\n",
       "      <td>2</td>\n",
       "      <td>None/Unknown</td>\n",
       "      <td>1</td>\n",
       "      <td>False</td>\n",
       "      <td>4</td>\n",
       "    </tr>\n",
       "    <tr>\n",
       "      <th>1</th>\n",
       "      <td>45-54</td>\n",
       "      <td>A</td>\n",
       "      <td>50-74K</td>\n",
       "      <td>Homeowner</td>\n",
       "      <td>2 Adults No Kids</td>\n",
       "      <td>2</td>\n",
       "      <td>None/Unknown</td>\n",
       "      <td>7</td>\n",
       "      <td>False</td>\n",
       "      <td>5</td>\n",
       "    </tr>\n",
       "  </tbody>\n",
       "</table>\n",
       "</div>"
      ],
      "text/plain": [
       "  age_desc marital_status_code income_desc homeowner_desc      hh_comp_desc  \\\n",
       "0      65+                   A      35-49K      Homeowner  2 Adults No Kids   \n",
       "1    45-54                   A      50-74K      Homeowner  2 Adults No Kids   \n",
       "\n",
       "  household_size_desc kid_category_desc  user_id  has_kid  income  \n",
       "0                   2      None/Unknown        1    False       4  \n",
       "1                   2      None/Unknown        7    False       5  "
      ]
     },
     "execution_count": 17,
     "metadata": {},
     "output_type": "execute_result"
    }
   ],
   "source": [
    "# статус дохода можно сделать числовым и порядковым, чтоб по нему можно было делать более точный прогноз\n",
    "user_features[\"income\"] = 0\n",
    "user_features.loc[user_features[\"income_desc\"] == 'Under 15K', 'income'] = 1 \n",
    "user_features.loc[user_features[\"income_desc\"] == '15-24K', 'income'] = 2\n",
    "user_features.loc[user_features[\"income_desc\"] == '25-34K', 'income'] = 3\n",
    "user_features.loc[user_features[\"income_desc\"] == '35-49K', 'income'] = 4\n",
    "user_features.loc[user_features[\"income_desc\"] == '50-74K', 'income'] = 5\n",
    "user_features.loc[user_features[\"income_desc\"] == '75-99K', 'income'] = 6\n",
    "user_features.loc[user_features[\"income_desc\"] == '100-124K', 'income'] = 7\n",
    "user_features.loc[user_features[\"income_desc\"] == '125-149K', 'income'] = 8\n",
    "user_features.loc[user_features[\"income_desc\"] == '150-174K', 'income'] = 9\n",
    "user_features.loc[user_features[\"income_desc\"] == '175-199K', 'income'] = 10\n",
    "user_features.loc[user_features[\"income_desc\"] == '200-249K', 'income'] = 11\n",
    "user_features.loc[user_features[\"income_desc\"] == '250K+', 'income'] = 12\n",
    "\n",
    "user_features.head(2)"
   ]
  },
  {
   "cell_type": "code",
   "execution_count": 18,
   "metadata": {},
   "outputs": [
    {
     "data": {
      "text/html": [
       "<div>\n",
       "<style scoped>\n",
       "    .dataframe tbody tr th:only-of-type {\n",
       "        vertical-align: middle;\n",
       "    }\n",
       "\n",
       "    .dataframe tbody tr th {\n",
       "        vertical-align: top;\n",
       "    }\n",
       "\n",
       "    .dataframe thead th {\n",
       "        text-align: right;\n",
       "    }\n",
       "</style>\n",
       "<table border=\"1\" class=\"dataframe\">\n",
       "  <thead>\n",
       "    <tr style=\"text-align: right;\">\n",
       "      <th></th>\n",
       "      <th>age_desc</th>\n",
       "      <th>marital_status_code</th>\n",
       "      <th>income_desc</th>\n",
       "      <th>homeowner_desc</th>\n",
       "      <th>hh_comp_desc</th>\n",
       "      <th>household_size_desc</th>\n",
       "      <th>kid_category_desc</th>\n",
       "      <th>user_id</th>\n",
       "      <th>has_kid</th>\n",
       "      <th>income</th>\n",
       "      <th>age</th>\n",
       "    </tr>\n",
       "  </thead>\n",
       "  <tbody>\n",
       "    <tr>\n",
       "      <th>0</th>\n",
       "      <td>65+</td>\n",
       "      <td>A</td>\n",
       "      <td>35-49K</td>\n",
       "      <td>Homeowner</td>\n",
       "      <td>2 Adults No Kids</td>\n",
       "      <td>2</td>\n",
       "      <td>None/Unknown</td>\n",
       "      <td>1</td>\n",
       "      <td>False</td>\n",
       "      <td>4</td>\n",
       "      <td>6</td>\n",
       "    </tr>\n",
       "    <tr>\n",
       "      <th>1</th>\n",
       "      <td>45-54</td>\n",
       "      <td>A</td>\n",
       "      <td>50-74K</td>\n",
       "      <td>Homeowner</td>\n",
       "      <td>2 Adults No Kids</td>\n",
       "      <td>2</td>\n",
       "      <td>None/Unknown</td>\n",
       "      <td>7</td>\n",
       "      <td>False</td>\n",
       "      <td>5</td>\n",
       "      <td>5</td>\n",
       "    </tr>\n",
       "  </tbody>\n",
       "</table>\n",
       "</div>"
      ],
      "text/plain": [
       "  age_desc marital_status_code income_desc homeowner_desc      hh_comp_desc  \\\n",
       "0      65+                   A      35-49K      Homeowner  2 Adults No Kids   \n",
       "1    45-54                   A      50-74K      Homeowner  2 Adults No Kids   \n",
       "\n",
       "  household_size_desc kid_category_desc  user_id  has_kid  income  age  \n",
       "0                   2      None/Unknown        1    False       4    6  \n",
       "1                   2      None/Unknown        7    False       5    5  "
      ]
     },
     "execution_count": 18,
     "metadata": {},
     "output_type": "execute_result"
    }
   ],
   "source": [
    "# порядковая категоря возраста - чтоб по ней можно было делаше более точный прогноз\n",
    "user_features[\"age\"] = 0\n",
    "user_features.loc[user_features[\"age_desc\"] ==  '19-24', 'age'] = 1 \n",
    "user_features.loc[user_features[\"age_desc\"] == '25-34', 'age'] = 2\n",
    "user_features.loc[user_features[\"age_desc\"] == '35-44', 'age'] = 3\n",
    "user_features.loc[user_features[\"age_desc\"] == '45-54', 'age'] = 4\n",
    "user_features.loc[user_features[\"age_desc\"] == '45-54', 'age'] = 5\n",
    "user_features.loc[user_features[\"age_desc\"] == '65+', 'age'] = 6\n",
    "\n",
    "user_features.head(2)"
   ]
  },
  {
   "cell_type": "code",
   "execution_count": 19,
   "metadata": {},
   "outputs": [
    {
     "data": {
      "text/html": [
       "<div>\n",
       "<style scoped>\n",
       "    .dataframe tbody tr th:only-of-type {\n",
       "        vertical-align: middle;\n",
       "    }\n",
       "\n",
       "    .dataframe tbody tr th {\n",
       "        vertical-align: top;\n",
       "    }\n",
       "\n",
       "    .dataframe thead th {\n",
       "        text-align: right;\n",
       "    }\n",
       "</style>\n",
       "<table border=\"1\" class=\"dataframe\">\n",
       "  <thead>\n",
       "    <tr style=\"text-align: right;\">\n",
       "      <th></th>\n",
       "      <th>age_desc</th>\n",
       "      <th>marital_status_code</th>\n",
       "      <th>income_desc</th>\n",
       "      <th>homeowner_desc</th>\n",
       "      <th>hh_comp_desc</th>\n",
       "      <th>household_size_desc</th>\n",
       "      <th>kid_category_desc</th>\n",
       "      <th>user_id</th>\n",
       "      <th>has_kid</th>\n",
       "      <th>income</th>\n",
       "      <th>age</th>\n",
       "      <th>household_size</th>\n",
       "    </tr>\n",
       "  </thead>\n",
       "  <tbody>\n",
       "    <tr>\n",
       "      <th>0</th>\n",
       "      <td>65+</td>\n",
       "      <td>A</td>\n",
       "      <td>35-49K</td>\n",
       "      <td>Homeowner</td>\n",
       "      <td>2 Adults No Kids</td>\n",
       "      <td>2</td>\n",
       "      <td>None/Unknown</td>\n",
       "      <td>1</td>\n",
       "      <td>False</td>\n",
       "      <td>4</td>\n",
       "      <td>6</td>\n",
       "      <td>2</td>\n",
       "    </tr>\n",
       "    <tr>\n",
       "      <th>1</th>\n",
       "      <td>45-54</td>\n",
       "      <td>A</td>\n",
       "      <td>50-74K</td>\n",
       "      <td>Homeowner</td>\n",
       "      <td>2 Adults No Kids</td>\n",
       "      <td>2</td>\n",
       "      <td>None/Unknown</td>\n",
       "      <td>7</td>\n",
       "      <td>False</td>\n",
       "      <td>5</td>\n",
       "      <td>5</td>\n",
       "      <td>2</td>\n",
       "    </tr>\n",
       "  </tbody>\n",
       "</table>\n",
       "</div>"
      ],
      "text/plain": [
       "  age_desc marital_status_code income_desc homeowner_desc      hh_comp_desc  \\\n",
       "0      65+                   A      35-49K      Homeowner  2 Adults No Kids   \n",
       "1    45-54                   A      50-74K      Homeowner  2 Adults No Kids   \n",
       "\n",
       "  household_size_desc kid_category_desc  user_id  has_kid  income  age  \\\n",
       "0                   2      None/Unknown        1    False       4    6   \n",
       "1                   2      None/Unknown        7    False       5    5   \n",
       "\n",
       "   household_size  \n",
       "0               2  \n",
       "1               2  "
      ]
     },
     "execution_count": 19,
     "metadata": {},
     "output_type": "execute_result"
    }
   ],
   "source": [
    "# аналогично для household_size_desc\n",
    "user_features[\"household_size\"] = 0\n",
    "user_features.loc[user_features[\"household_size_desc\"] ==  '1', 'household_size'] = 1 \n",
    "user_features.loc[user_features[\"household_size_desc\"] == '2', 'household_size'] = 2\n",
    "user_features.loc[user_features[\"household_size_desc\"] == '3', 'household_size'] = 3\n",
    "user_features.loc[user_features[\"household_size_desc\"] == '4', 'household_size'] = 4\n",
    "user_features.loc[user_features[\"household_size_desc\"] == '5+', 'household_size'] = 5\n",
    "\n",
    "user_features.head(2)"
   ]
  },
  {
   "cell_type": "code",
   "execution_count": 20,
   "metadata": {},
   "outputs": [],
   "source": [
    "user_features = user_features.drop(['kid_category_desc','income_desc', 'age_desc', 'household_size_desc'], axis=1)\n",
    "new_cat_feats = ['has_kid', 'income', 'age', 'household_size']\n",
    "user_features[new_cat_feats] = user_features[new_cat_feats].astype('category')"
   ]
  },
  {
   "cell_type": "code",
   "execution_count": 21,
   "metadata": {},
   "outputs": [
    {
     "name": "stdout",
     "output_type": "stream",
     "text": [
      "<class 'pandas.core.frame.DataFrame'>\n",
      "RangeIndex: 801 entries, 0 to 800\n",
      "Data columns (total 8 columns):\n",
      " #   Column               Non-Null Count  Dtype   \n",
      "---  ------               --------------  -----   \n",
      " 0   marital_status_code  801 non-null    object  \n",
      " 1   homeowner_desc       801 non-null    object  \n",
      " 2   hh_comp_desc         801 non-null    object  \n",
      " 3   user_id              801 non-null    int64   \n",
      " 4   has_kid              801 non-null    category\n",
      " 5   income               801 non-null    category\n",
      " 6   age                  801 non-null    category\n",
      " 7   household_size       801 non-null    category\n",
      "dtypes: category(4), int64(1), object(3)\n",
      "memory usage: 29.2+ KB\n"
     ]
    }
   ],
   "source": [
    "user_features.info()"
   ]
  },
  {
   "cell_type": "markdown",
   "metadata": {},
   "source": [
    "### г) Подготовка обучающих и валидационных данных"
   ]
  },
  {
   "cell_type": "code",
   "execution_count": 22,
   "metadata": {},
   "outputs": [
    {
     "data": {
      "text/html": [
       "<div>\n",
       "<style scoped>\n",
       "    .dataframe tbody tr th:only-of-type {\n",
       "        vertical-align: middle;\n",
       "    }\n",
       "\n",
       "    .dataframe tbody tr th {\n",
       "        vertical-align: top;\n",
       "    }\n",
       "\n",
       "    .dataframe thead th {\n",
       "        text-align: right;\n",
       "    }\n",
       "</style>\n",
       "<table border=\"1\" class=\"dataframe\">\n",
       "  <thead>\n",
       "    <tr style=\"text-align: right;\">\n",
       "      <th></th>\n",
       "      <th>user_id</th>\n",
       "      <th>basket_id</th>\n",
       "      <th>day</th>\n",
       "      <th>item_id</th>\n",
       "      <th>quantity</th>\n",
       "      <th>sales_value</th>\n",
       "      <th>store_id</th>\n",
       "      <th>retail_disc</th>\n",
       "      <th>trans_time</th>\n",
       "      <th>week_no</th>\n",
       "      <th>coupon_disc</th>\n",
       "      <th>coupon_match_disc</th>\n",
       "    </tr>\n",
       "  </thead>\n",
       "  <tbody>\n",
       "    <tr>\n",
       "      <th>0</th>\n",
       "      <td>2375</td>\n",
       "      <td>26984851472</td>\n",
       "      <td>1</td>\n",
       "      <td>1004906</td>\n",
       "      <td>1</td>\n",
       "      <td>1.39</td>\n",
       "      <td>364</td>\n",
       "      <td>-0.60</td>\n",
       "      <td>1631</td>\n",
       "      <td>1</td>\n",
       "      <td>0.0</td>\n",
       "      <td>0.0</td>\n",
       "    </tr>\n",
       "    <tr>\n",
       "      <th>151</th>\n",
       "      <td>718</td>\n",
       "      <td>26985360571</td>\n",
       "      <td>1</td>\n",
       "      <td>934676</td>\n",
       "      <td>1</td>\n",
       "      <td>1.37</td>\n",
       "      <td>324</td>\n",
       "      <td>-0.42</td>\n",
       "      <td>1115</td>\n",
       "      <td>1</td>\n",
       "      <td>-1.0</td>\n",
       "      <td>0.0</td>\n",
       "    </tr>\n",
       "  </tbody>\n",
       "</table>\n",
       "</div>"
      ],
      "text/plain": [
       "     user_id    basket_id  day  item_id  quantity  sales_value  store_id  \\\n",
       "0       2375  26984851472    1  1004906         1         1.39       364   \n",
       "151      718  26985360571    1   934676         1         1.37       324   \n",
       "\n",
       "     retail_disc  trans_time  week_no  coupon_disc  coupon_match_disc  \n",
       "0          -0.60        1631        1          0.0                0.0  \n",
       "151        -0.42        1115        1         -1.0                0.0  "
      ]
     },
     "execution_count": 22,
     "metadata": {},
     "output_type": "execute_result"
    }
   ],
   "source": [
    "# -- давние покупки -- | -- 6 недель -- | -- 3 недели -- \n",
    "val_lvl_1_size_weeks = 6\n",
    "val_lvl_2_size_weeks = 3\n",
    "\n",
    "data_train_lvl_1 = data[data['week_no'] < data['week_no'].max() - (val_lvl_1_size_weeks + val_lvl_2_size_weeks)]\n",
    "data_val_lvl_1 = data[(data['week_no'] >= data['week_no'].max() - (val_lvl_1_size_weeks + val_lvl_2_size_weeks)) &\n",
    "                      (data['week_no'] < data['week_no'].max() - (val_lvl_2_size_weeks))]\n",
    "\n",
    "data_train_lvl_2 = data_val_lvl_1.copy()  # Для наглядности. Далее мы добавим изменения, и они будут отличаться\n",
    "data_val_lvl_2 = data[data['week_no'] >= data['week_no'].max() - val_lvl_2_size_weeks]\n",
    "\n",
    "data_train_lvl_1.head(2)"
   ]
  },
  {
   "cell_type": "code",
   "execution_count": 23,
   "metadata": {
    "scrolled": true
   },
   "outputs": [
    {
     "name": "stdout",
     "output_type": "stream",
     "text": [
      "Decreased # items from 83685 to 501\n"
     ]
    }
   ],
   "source": [
    "n_items_before = data_train_lvl_1['item_id'].nunique()\n",
    "\n",
    "data_train_lvl_1 = prefilter_items(data_train_lvl_1, delete_popular=False, item_features=item_features, take_n_popular=500)\n",
    "\n",
    "n_items_after = data_train_lvl_1['item_id'].nunique()\n",
    "print('Decreased # items from {} to {}'.format(n_items_before, n_items_after))"
   ]
  },
  {
   "cell_type": "markdown",
   "metadata": {},
   "source": [
    "## 2. Отбор кандидатов"
   ]
  },
  {
   "cell_type": "markdown",
   "metadata": {},
   "source": [
    "Подбор параметров модели отбора кандидатов"
   ]
  },
  {
   "cell_type": "code",
   "execution_count": 24,
   "metadata": {
    "scrolled": true
   },
   "outputs": [],
   "source": [
    "result_train = data_train_lvl_1.groupby('user_id')['item_id'].unique().reset_index()\n",
    "result_train.columns=['user_id', 'actual']\n",
    "\n",
    "result_val = data_val_lvl_1.groupby('user_id')['item_id'].unique().reset_index()\n",
    "result_val.columns=['user_id', 'actual']"
   ]
  },
  {
   "cell_type": "code",
   "execution_count": 25,
   "metadata": {
    "scrolled": true
   },
   "outputs": [
    {
     "name": "stderr",
     "output_type": "stream",
     "text": [
      "WARNING:root:OpenBLAS detected. Its highly recommend to set the environment variable 'export OPENBLAS_NUM_THREADS=1' to disable its internal multithreading\n"
     ]
    },
    {
     "data": {
      "application/vnd.jupyter.widget-view+json": {
       "model_id": "f8dc9f050d97419796e7234b71b2137b",
       "version_major": 2,
       "version_minor": 0
      },
      "text/plain": [
       "HBox(children=(HTML(value=''), FloatProgress(value=0.0, max=15.0), HTML(value='')))"
      ]
     },
     "metadata": {},
     "output_type": "display_data"
    },
    {
     "name": "stdout",
     "output_type": "stream",
     "text": [
      "\n"
     ]
    },
    {
     "data": {
      "application/vnd.jupyter.widget-view+json": {
       "model_id": "c9f196879fe44bd7b1171005c4496085",
       "version_major": 2,
       "version_minor": 0
      },
      "text/plain": [
       "HBox(children=(HTML(value=''), FloatProgress(value=0.0, max=501.0), HTML(value='')))"
      ]
     },
     "metadata": {},
     "output_type": "display_data"
    },
    {
     "name": "stdout",
     "output_type": "stream",
     "text": [
      "\n",
      "Get recommendations error. Return top. User ID: 296\n",
      "Get recommendations error. Return top. User ID: 1813\n",
      "Get recommendations error. Return top. User ID: 1984\n"
     ]
    },
    {
     "data": {
      "application/vnd.jupyter.widget-view+json": {
       "model_id": "822ce27034df4439b64a8f67ac6c6dbd",
       "version_major": 2,
       "version_minor": 0
      },
      "text/plain": [
       "HBox(children=(HTML(value=''), FloatProgress(value=0.0, max=15.0), HTML(value='')))"
      ]
     },
     "metadata": {},
     "output_type": "display_data"
    },
    {
     "name": "stdout",
     "output_type": "stream",
     "text": [
      "\n"
     ]
    },
    {
     "data": {
      "application/vnd.jupyter.widget-view+json": {
       "model_id": "cf347c6952b34058a1455535e7cc565f",
       "version_major": 2,
       "version_minor": 0
      },
      "text/plain": [
       "HBox(children=(HTML(value=''), FloatProgress(value=0.0, max=501.0), HTML(value='')))"
      ]
     },
     "metadata": {},
     "output_type": "display_data"
    },
    {
     "name": "stdout",
     "output_type": "stream",
     "text": [
      "\n",
      "Get recommendations error. Return top. User ID: 296\n",
      "Get recommendations error. Return top. User ID: 1813\n",
      "Get recommendations error. Return top. User ID: 1984\n"
     ]
    },
    {
     "data": {
      "application/vnd.jupyter.widget-view+json": {
       "model_id": "759436816b9b4693b051fc3c9b6bcb9f",
       "version_major": 2,
       "version_minor": 0
      },
      "text/plain": [
       "HBox(children=(HTML(value=''), FloatProgress(value=0.0, max=15.0), HTML(value='')))"
      ]
     },
     "metadata": {},
     "output_type": "display_data"
    },
    {
     "name": "stdout",
     "output_type": "stream",
     "text": [
      "\n"
     ]
    },
    {
     "data": {
      "application/vnd.jupyter.widget-view+json": {
       "model_id": "a45ef0746f79499b8e3d223ddab716b2",
       "version_major": 2,
       "version_minor": 0
      },
      "text/plain": [
       "HBox(children=(HTML(value=''), FloatProgress(value=0.0, max=501.0), HTML(value='')))"
      ]
     },
     "metadata": {},
     "output_type": "display_data"
    },
    {
     "name": "stdout",
     "output_type": "stream",
     "text": [
      "\n",
      "Get recommendations error. Return top. User ID: 296\n",
      "Get recommendations error. Return top. User ID: 1813\n",
      "Get recommendations error. Return top. User ID: 1984\n"
     ]
    },
    {
     "data": {
      "application/vnd.jupyter.widget-view+json": {
       "model_id": "70bd6b76a3454ecd8f44245a33f21579",
       "version_major": 2,
       "version_minor": 0
      },
      "text/plain": [
       "HBox(children=(HTML(value=''), FloatProgress(value=0.0, max=15.0), HTML(value='')))"
      ]
     },
     "metadata": {},
     "output_type": "display_data"
    },
    {
     "name": "stdout",
     "output_type": "stream",
     "text": [
      "\n"
     ]
    },
    {
     "data": {
      "application/vnd.jupyter.widget-view+json": {
       "model_id": "a3f6b4988f514f348c1a87f217f94ad7",
       "version_major": 2,
       "version_minor": 0
      },
      "text/plain": [
       "HBox(children=(HTML(value=''), FloatProgress(value=0.0, max=501.0), HTML(value='')))"
      ]
     },
     "metadata": {},
     "output_type": "display_data"
    },
    {
     "name": "stdout",
     "output_type": "stream",
     "text": [
      "\n",
      "Get recommendations error. Return top. User ID: 296\n",
      "Get recommendations error. Return top. User ID: 1813\n",
      "Get recommendations error. Return top. User ID: 1984\n"
     ]
    },
    {
     "data": {
      "application/vnd.jupyter.widget-view+json": {
       "model_id": "c3429c753da04532ad66714da1702a0a",
       "version_major": 2,
       "version_minor": 0
      },
      "text/plain": [
       "HBox(children=(HTML(value=''), FloatProgress(value=0.0, max=15.0), HTML(value='')))"
      ]
     },
     "metadata": {},
     "output_type": "display_data"
    },
    {
     "name": "stdout",
     "output_type": "stream",
     "text": [
      "\n"
     ]
    },
    {
     "data": {
      "application/vnd.jupyter.widget-view+json": {
       "model_id": "5e1dcdfab3a242caa6a5347c60d50de7",
       "version_major": 2,
       "version_minor": 0
      },
      "text/plain": [
       "HBox(children=(HTML(value=''), FloatProgress(value=0.0, max=501.0), HTML(value='')))"
      ]
     },
     "metadata": {},
     "output_type": "display_data"
    },
    {
     "name": "stdout",
     "output_type": "stream",
     "text": [
      "\n",
      "Get recommendations error. Return top. User ID: 296\n",
      "Get recommendations error. Return top. User ID: 1813\n",
      "Get recommendations error. Return top. User ID: 1984\n"
     ]
    },
    {
     "data": {
      "application/vnd.jupyter.widget-view+json": {
       "model_id": "bc8324cf32e64f51ba5f077c9f7d8981",
       "version_major": 2,
       "version_minor": 0
      },
      "text/plain": [
       "HBox(children=(HTML(value=''), FloatProgress(value=0.0, max=15.0), HTML(value='')))"
      ]
     },
     "metadata": {},
     "output_type": "display_data"
    },
    {
     "name": "stdout",
     "output_type": "stream",
     "text": [
      "\n"
     ]
    },
    {
     "data": {
      "application/vnd.jupyter.widget-view+json": {
       "model_id": "d728bd616fbf4186bef1207b8d03ef92",
       "version_major": 2,
       "version_minor": 0
      },
      "text/plain": [
       "HBox(children=(HTML(value=''), FloatProgress(value=0.0, max=501.0), HTML(value='')))"
      ]
     },
     "metadata": {},
     "output_type": "display_data"
    },
    {
     "name": "stdout",
     "output_type": "stream",
     "text": [
      "\n",
      "Get recommendations error. Return top. User ID: 296\n",
      "Get recommendations error. Return top. User ID: 1813\n",
      "Get recommendations error. Return top. User ID: 1984\n"
     ]
    },
    {
     "data": {
      "application/vnd.jupyter.widget-view+json": {
       "model_id": "d88c20dc5bae48a8b3b21e7f94334548",
       "version_major": 2,
       "version_minor": 0
      },
      "text/plain": [
       "HBox(children=(HTML(value=''), FloatProgress(value=0.0, max=15.0), HTML(value='')))"
      ]
     },
     "metadata": {},
     "output_type": "display_data"
    },
    {
     "name": "stdout",
     "output_type": "stream",
     "text": [
      "\n"
     ]
    },
    {
     "data": {
      "application/vnd.jupyter.widget-view+json": {
       "model_id": "f3fa94a0d448464abf901b323915ce1f",
       "version_major": 2,
       "version_minor": 0
      },
      "text/plain": [
       "HBox(children=(HTML(value=''), FloatProgress(value=0.0, max=501.0), HTML(value='')))"
      ]
     },
     "metadata": {},
     "output_type": "display_data"
    },
    {
     "name": "stdout",
     "output_type": "stream",
     "text": [
      "\n",
      "Get recommendations error. Return top. User ID: 296\n",
      "Get recommendations error. Return top. User ID: 1813\n",
      "Get recommendations error. Return top. User ID: 1984\n"
     ]
    },
    {
     "data": {
      "application/vnd.jupyter.widget-view+json": {
       "model_id": "81d7c18eff3449548317a444541f358f",
       "version_major": 2,
       "version_minor": 0
      },
      "text/plain": [
       "HBox(children=(HTML(value=''), FloatProgress(value=0.0, max=15.0), HTML(value='')))"
      ]
     },
     "metadata": {},
     "output_type": "display_data"
    },
    {
     "name": "stdout",
     "output_type": "stream",
     "text": [
      "\n"
     ]
    },
    {
     "data": {
      "application/vnd.jupyter.widget-view+json": {
       "model_id": "c270857139eb4942916b0ca11d7ff7b9",
       "version_major": 2,
       "version_minor": 0
      },
      "text/plain": [
       "HBox(children=(HTML(value=''), FloatProgress(value=0.0, max=501.0), HTML(value='')))"
      ]
     },
     "metadata": {},
     "output_type": "display_data"
    },
    {
     "name": "stdout",
     "output_type": "stream",
     "text": [
      "\n",
      "Get recommendations error. Return top. User ID: 296\n",
      "Get recommendations error. Return top. User ID: 1813\n",
      "Get recommendations error. Return top. User ID: 1984\n"
     ]
    },
    {
     "data": {
      "application/vnd.jupyter.widget-view+json": {
       "model_id": "a3ae94491b364555aa884720141ae9c3",
       "version_major": 2,
       "version_minor": 0
      },
      "text/plain": [
       "HBox(children=(HTML(value=''), FloatProgress(value=0.0, max=15.0), HTML(value='')))"
      ]
     },
     "metadata": {},
     "output_type": "display_data"
    },
    {
     "name": "stdout",
     "output_type": "stream",
     "text": [
      "\n"
     ]
    },
    {
     "data": {
      "application/vnd.jupyter.widget-view+json": {
       "model_id": "fddc260cf8674aa1841517b06017cd00",
       "version_major": 2,
       "version_minor": 0
      },
      "text/plain": [
       "HBox(children=(HTML(value=''), FloatProgress(value=0.0, max=501.0), HTML(value='')))"
      ]
     },
     "metadata": {},
     "output_type": "display_data"
    },
    {
     "name": "stdout",
     "output_type": "stream",
     "text": [
      "\n",
      "Get recommendations error. Return top. User ID: 296\n",
      "Get recommendations error. Return top. User ID: 1813\n",
      "Get recommendations error. Return top. User ID: 1984\n"
     ]
    },
    {
     "data": {
      "application/vnd.jupyter.widget-view+json": {
       "model_id": "8112761c02fa4fa783158744210bc1b7",
       "version_major": 2,
       "version_minor": 0
      },
      "text/plain": [
       "HBox(children=(HTML(value=''), FloatProgress(value=0.0, max=15.0), HTML(value='')))"
      ]
     },
     "metadata": {},
     "output_type": "display_data"
    },
    {
     "name": "stdout",
     "output_type": "stream",
     "text": [
      "\n"
     ]
    },
    {
     "data": {
      "application/vnd.jupyter.widget-view+json": {
       "model_id": "47dc0cbbc9234aec9fb2471aef22d35c",
       "version_major": 2,
       "version_minor": 0
      },
      "text/plain": [
       "HBox(children=(HTML(value=''), FloatProgress(value=0.0, max=501.0), HTML(value='')))"
      ]
     },
     "metadata": {},
     "output_type": "display_data"
    },
    {
     "name": "stdout",
     "output_type": "stream",
     "text": [
      "\n",
      "Get recommendations error. Return top. User ID: 296\n",
      "Get recommendations error. Return top. User ID: 1813\n",
      "Get recommendations error. Return top. User ID: 1984\n"
     ]
    }
   ],
   "source": [
    "score = []\n",
    "recommenders = []\n",
    "best_pr = 0\n",
    "recommender = None\n",
    "\n",
    "for factors in range(35, 45, 1):\n",
    "    recommenders.append(MainRecommender(data_train_lvl_1, weighting='tfidf_weight', n_factors=factors))\n",
    "\n",
    "    column_name = 'als_f{}'.format(factors)\n",
    "\n",
    "    result_train[column_name] = result_train['user_id'].apply(lambda x: recommenders[-1].get_als_recommendations(x, N=50))\n",
    "    pr_train = result_train.apply(lambda row: precision_at_k(row[column_name], row['actual']), axis=1).mean()\n",
    "    rec_train = result_train.apply(lambda row: recall_at_k(row[column_name], row['actual']), axis=1).mean()\n",
    "    \n",
    "    result_val[column_name] = result_val['user_id'].apply(lambda x: recommenders[-1].get_als_recommendations(x, N=50))\n",
    "    pr_val = result_val.apply(lambda row: precision_at_k(row[column_name], row['actual']), axis=1).mean()\n",
    "    rec_val = result_val.apply(lambda row: recall_at_k(row[column_name], row['actual']), axis=1).mean()\n",
    "    \n",
    "    score.append([factors, pr_train, rec_train, pr_val, rec_val])\n",
    "    if best_pr < pr_val:\n",
    "        best_pr = pr_val\n",
    "        recommender = recommenders[-1]"
   ]
  },
  {
   "cell_type": "code",
   "execution_count": 26,
   "metadata": {},
   "outputs": [
    {
     "data": {
      "text/html": [
       "<div>\n",
       "<style scoped>\n",
       "    .dataframe tbody tr th:only-of-type {\n",
       "        vertical-align: middle;\n",
       "    }\n",
       "\n",
       "    .dataframe tbody tr th {\n",
       "        vertical-align: top;\n",
       "    }\n",
       "\n",
       "    .dataframe thead th {\n",
       "        text-align: right;\n",
       "    }\n",
       "</style>\n",
       "<table border=\"1\" class=\"dataframe\">\n",
       "  <thead>\n",
       "    <tr style=\"text-align: right;\">\n",
       "      <th></th>\n",
       "      <th>factors</th>\n",
       "      <th>pr_train</th>\n",
       "      <th>rec_train</th>\n",
       "      <th>pr_val</th>\n",
       "      <th>rec_val</th>\n",
       "    </tr>\n",
       "  </thead>\n",
       "  <tbody>\n",
       "    <tr>\n",
       "      <th>8</th>\n",
       "      <td>43</td>\n",
       "      <td>0.829339</td>\n",
       "      <td>0.168208</td>\n",
       "      <td>0.165924</td>\n",
       "      <td>0.019666</td>\n",
       "    </tr>\n",
       "    <tr>\n",
       "      <th>1</th>\n",
       "      <td>36</td>\n",
       "      <td>0.789739</td>\n",
       "      <td>0.154679</td>\n",
       "      <td>0.165460</td>\n",
       "      <td>0.019179</td>\n",
       "    </tr>\n",
       "    <tr>\n",
       "      <th>3</th>\n",
       "      <td>38</td>\n",
       "      <td>0.804329</td>\n",
       "      <td>0.159678</td>\n",
       "      <td>0.164717</td>\n",
       "      <td>0.019568</td>\n",
       "    </tr>\n",
       "    <tr>\n",
       "      <th>0</th>\n",
       "      <td>35</td>\n",
       "      <td>0.782605</td>\n",
       "      <td>0.153908</td>\n",
       "      <td>0.164067</td>\n",
       "      <td>0.019100</td>\n",
       "    </tr>\n",
       "    <tr>\n",
       "      <th>7</th>\n",
       "      <td>42</td>\n",
       "      <td>0.824208</td>\n",
       "      <td>0.165821</td>\n",
       "      <td>0.164067</td>\n",
       "      <td>0.019907</td>\n",
       "    </tr>\n",
       "    <tr>\n",
       "      <th>4</th>\n",
       "      <td>39</td>\n",
       "      <td>0.806733</td>\n",
       "      <td>0.161245</td>\n",
       "      <td>0.163788</td>\n",
       "      <td>0.019246</td>\n",
       "    </tr>\n",
       "    <tr>\n",
       "      <th>6</th>\n",
       "      <td>41</td>\n",
       "      <td>0.818196</td>\n",
       "      <td>0.164821</td>\n",
       "      <td>0.163603</td>\n",
       "      <td>0.019242</td>\n",
       "    </tr>\n",
       "    <tr>\n",
       "      <th>2</th>\n",
       "      <td>37</td>\n",
       "      <td>0.797916</td>\n",
       "      <td>0.157430</td>\n",
       "      <td>0.163138</td>\n",
       "      <td>0.018865</td>\n",
       "    </tr>\n",
       "    <tr>\n",
       "      <th>5</th>\n",
       "      <td>40</td>\n",
       "      <td>0.818277</td>\n",
       "      <td>0.164238</td>\n",
       "      <td>0.162581</td>\n",
       "      <td>0.019315</td>\n",
       "    </tr>\n",
       "    <tr>\n",
       "      <th>9</th>\n",
       "      <td>44</td>\n",
       "      <td>0.833747</td>\n",
       "      <td>0.168596</td>\n",
       "      <td>0.159424</td>\n",
       "      <td>0.019283</td>\n",
       "    </tr>\n",
       "  </tbody>\n",
       "</table>\n",
       "</div>"
      ],
      "text/plain": [
       "   factors  pr_train  rec_train    pr_val   rec_val\n",
       "8       43  0.829339   0.168208  0.165924  0.019666\n",
       "1       36  0.789739   0.154679  0.165460  0.019179\n",
       "3       38  0.804329   0.159678  0.164717  0.019568\n",
       "0       35  0.782605   0.153908  0.164067  0.019100\n",
       "7       42  0.824208   0.165821  0.164067  0.019907\n",
       "4       39  0.806733   0.161245  0.163788  0.019246\n",
       "6       41  0.818196   0.164821  0.163603  0.019242\n",
       "2       37  0.797916   0.157430  0.163138  0.018865\n",
       "5       40  0.818277   0.164238  0.162581  0.019315\n",
       "9       44  0.833747   0.168596  0.159424  0.019283"
      ]
     },
     "execution_count": 26,
     "metadata": {},
     "output_type": "execute_result"
    }
   ],
   "source": [
    "score_df = pd.DataFrame(score, columns=['factors','pr_train', 'rec_train', 'pr_val', 'rec_val'])\n",
    "score_df.sort_values('pr_val', ascending=False)"
   ]
  },
  {
   "cell_type": "markdown",
   "metadata": {},
   "source": [
    "Качество модели отбора кандидатов"
   ]
  },
  {
   "cell_type": "code",
   "execution_count": 27,
   "metadata": {},
   "outputs": [
    {
     "name": "stdout",
     "output_type": "stream",
     "text": [
      "Get recommendations error. Return top. User ID: 296\n",
      "Get recommendations error. Return top. User ID: 1813\n",
      "Get recommendations error. Return top. User ID: 1984\n"
     ]
    },
    {
     "data": {
      "text/plain": [
       "(0.16592386258124184, 0.019666217313196867)"
      ]
     },
     "execution_count": 27,
     "metadata": {},
     "output_type": "execute_result"
    }
   ],
   "source": [
    "result_lvl_1 = data_val_lvl_1.groupby('user_id')['item_id'].unique().reset_index()\n",
    "result_lvl_1.columns=['user_id', 'actual']\n",
    "\n",
    "result_lvl_1['als'] = result_lvl_1['user_id'].apply(lambda x: recommender.get_als_recommendations(x, N=50))\n",
    "#result_lvl_1['als'] = result_lvl_1['user_id'].apply(lambda x: recommender.get_own_recommendations(x, N=50))\n",
    "pr = result_lvl_1.apply(lambda row: precision_at_k(row['als'], row['actual']), axis=1).mean()\n",
    "rec = result_lvl_1.apply(lambda row: recall_at_k(row['als'], row['actual']), axis=1).mean()\n",
    "pr, rec"
   ]
  },
  {
   "cell_type": "markdown",
   "metadata": {},
   "source": [
    "### 3. Модель 2-го уровня"
   ]
  },
  {
   "cell_type": "code",
   "execution_count": 28,
   "metadata": {},
   "outputs": [],
   "source": [
    "users_lvl_2 = pd.DataFrame(data_train_lvl_2['user_id'].unique())\n",
    "users_lvl_2.columns = ['user_id']"
   ]
  },
  {
   "cell_type": "code",
   "execution_count": 29,
   "metadata": {},
   "outputs": [
    {
     "name": "stdout",
     "output_type": "stream",
     "text": [
      "Get recommendations error. Return top. User ID: 1813\n",
      "Get recommendations error. Return top. User ID: 1984\n",
      "Get recommendations error. Return top. User ID: 296\n"
     ]
    }
   ],
   "source": [
    "warm_start = False\n",
    "if warm_start:\n",
    "    train_users = data_train_lvl_1['user_id'].unique()\n",
    "    users_lvl_2 = users_lvl_2[users_lvl_2['user_id'].isin(train_users)]\n",
    "\n",
    "users_lvl_2['candidates'] = users_lvl_2['user_id'].apply(lambda x: recommender.get_als_recommendations(x, N=100))\n",
    "#users_lvl_2['candidates'] = users_lvl_2['user_id'].apply(lambda x: recommender.get_own_recommendations(x, N=100))"
   ]
  },
  {
   "cell_type": "code",
   "execution_count": 30,
   "metadata": {},
   "outputs": [
    {
     "data": {
      "text/html": [
       "<div>\n",
       "<style scoped>\n",
       "    .dataframe tbody tr th:only-of-type {\n",
       "        vertical-align: middle;\n",
       "    }\n",
       "\n",
       "    .dataframe tbody tr th {\n",
       "        vertical-align: top;\n",
       "    }\n",
       "\n",
       "    .dataframe thead th {\n",
       "        text-align: right;\n",
       "    }\n",
       "</style>\n",
       "<table border=\"1\" class=\"dataframe\">\n",
       "  <thead>\n",
       "    <tr style=\"text-align: right;\">\n",
       "      <th></th>\n",
       "      <th>user_id</th>\n",
       "      <th>candidates</th>\n",
       "    </tr>\n",
       "  </thead>\n",
       "  <tbody>\n",
       "    <tr>\n",
       "      <th>0</th>\n",
       "      <td>628</td>\n",
       "      <td>[1029743, 8090521, 1106523, 5569230, 902172, 1...</td>\n",
       "    </tr>\n",
       "    <tr>\n",
       "      <th>1</th>\n",
       "      <td>1631</td>\n",
       "      <td>[12810393, 916122, 844179, 1044078, 12384775, ...</td>\n",
       "    </tr>\n",
       "  </tbody>\n",
       "</table>\n",
       "</div>"
      ],
      "text/plain": [
       "   user_id                                         candidates\n",
       "0      628  [1029743, 8090521, 1106523, 5569230, 902172, 1...\n",
       "1     1631  [12810393, 916122, 844179, 1044078, 12384775, ..."
      ]
     },
     "execution_count": 30,
     "metadata": {},
     "output_type": "execute_result"
    }
   ],
   "source": [
    "users_lvl_2.head(2)"
   ]
  },
  {
   "cell_type": "code",
   "execution_count": 31,
   "metadata": {},
   "outputs": [
    {
     "data": {
      "text/html": [
       "<div>\n",
       "<style scoped>\n",
       "    .dataframe tbody tr th:only-of-type {\n",
       "        vertical-align: middle;\n",
       "    }\n",
       "\n",
       "    .dataframe tbody tr th {\n",
       "        vertical-align: top;\n",
       "    }\n",
       "\n",
       "    .dataframe thead th {\n",
       "        text-align: right;\n",
       "    }\n",
       "</style>\n",
       "<table border=\"1\" class=\"dataframe\">\n",
       "  <thead>\n",
       "    <tr style=\"text-align: right;\">\n",
       "      <th></th>\n",
       "      <th>user_id</th>\n",
       "      <th>item_id</th>\n",
       "      <th>flag</th>\n",
       "    </tr>\n",
       "  </thead>\n",
       "  <tbody>\n",
       "    <tr>\n",
       "      <th>0</th>\n",
       "      <td>628</td>\n",
       "      <td>1029743</td>\n",
       "      <td>1</td>\n",
       "    </tr>\n",
       "    <tr>\n",
       "      <th>0</th>\n",
       "      <td>628</td>\n",
       "      <td>8090521</td>\n",
       "      <td>1</td>\n",
       "    </tr>\n",
       "    <tr>\n",
       "      <th>0</th>\n",
       "      <td>628</td>\n",
       "      <td>1106523</td>\n",
       "      <td>1</td>\n",
       "    </tr>\n",
       "    <tr>\n",
       "      <th>0</th>\n",
       "      <td>628</td>\n",
       "      <td>5569230</td>\n",
       "      <td>1</td>\n",
       "    </tr>\n",
       "  </tbody>\n",
       "</table>\n",
       "</div>"
      ],
      "text/plain": [
       "   user_id  item_id  flag\n",
       "0      628  1029743     1\n",
       "0      628  8090521     1\n",
       "0      628  1106523     1\n",
       "0      628  5569230     1"
      ]
     },
     "execution_count": 31,
     "metadata": {},
     "output_type": "execute_result"
    }
   ],
   "source": [
    "s = users_lvl_2.apply(lambda x: pd.Series(x['candidates']), axis=1).stack().reset_index(level=1, drop=True)\n",
    "s.name = 'item_id'\n",
    "\n",
    "users_lvl_2 = users_lvl_2.drop('candidates', axis=1).join(s)\n",
    "users_lvl_2['flag'] = 1\n",
    "\n",
    "users_lvl_2.head(4)"
   ]
  },
  {
   "cell_type": "code",
   "execution_count": 32,
   "metadata": {},
   "outputs": [],
   "source": [
    "targets_lvl_2 = data_train_lvl_2[['user_id', 'item_id']].copy()\n",
    "targets_lvl_2['target'] = 1  # тут только покупки \n",
    "\n",
    "targets_lvl_2 = users_lvl_2.merge(targets_lvl_2, on=['user_id', 'item_id'], how='left')\n",
    "\n",
    "targets_lvl_2['target'].fillna(0, inplace= True)\n",
    "targets_lvl_2.drop('flag', axis=1, inplace=True)"
   ]
  },
  {
   "cell_type": "code",
   "execution_count": 33,
   "metadata": {},
   "outputs": [
    {
     "data": {
      "text/html": [
       "<div>\n",
       "<style scoped>\n",
       "    .dataframe tbody tr th:only-of-type {\n",
       "        vertical-align: middle;\n",
       "    }\n",
       "\n",
       "    .dataframe tbody tr th {\n",
       "        vertical-align: top;\n",
       "    }\n",
       "\n",
       "    .dataframe thead th {\n",
       "        text-align: right;\n",
       "    }\n",
       "</style>\n",
       "<table border=\"1\" class=\"dataframe\">\n",
       "  <thead>\n",
       "    <tr style=\"text-align: right;\">\n",
       "      <th></th>\n",
       "      <th>user_id</th>\n",
       "      <th>item_id</th>\n",
       "      <th>target</th>\n",
       "      <th>median_sales_hour</th>\n",
       "      <th>median_weekday</th>\n",
       "      <th>mean_visits_interval</th>\n",
       "      <th>mean_check</th>\n",
       "      <th>n_stores</th>\n",
       "      <th>n_items</th>\n",
       "      <th>n_transactions</th>\n",
       "      <th>...</th>\n",
       "      <th>curr_size_of_product</th>\n",
       "      <th>price</th>\n",
       "      <th>last_sales_day</th>\n",
       "      <th>marital_status_code</th>\n",
       "      <th>homeowner_desc</th>\n",
       "      <th>hh_comp_desc</th>\n",
       "      <th>has_kid</th>\n",
       "      <th>income</th>\n",
       "      <th>age</th>\n",
       "      <th>household_size</th>\n",
       "    </tr>\n",
       "  </thead>\n",
       "  <tbody>\n",
       "    <tr>\n",
       "      <th>0</th>\n",
       "      <td>628</td>\n",
       "      <td>1029743</td>\n",
       "      <td>1.0</td>\n",
       "      <td>18.5</td>\n",
       "      <td>4.0</td>\n",
       "      <td>32.647059</td>\n",
       "      <td>61.258235</td>\n",
       "      <td>113.0</td>\n",
       "      <td>240.0</td>\n",
       "      <td>271.0</td>\n",
       "      <td>...</td>\n",
       "      <td>1 GA</td>\n",
       "      <td>2.412823</td>\n",
       "      <td>663.0</td>\n",
       "      <td>NaN</td>\n",
       "      <td>NaN</td>\n",
       "      <td>NaN</td>\n",
       "      <td>NaN</td>\n",
       "      <td>NaN</td>\n",
       "      <td>NaN</td>\n",
       "      <td>NaN</td>\n",
       "    </tr>\n",
       "    <tr>\n",
       "      <th>1</th>\n",
       "      <td>628</td>\n",
       "      <td>8090521</td>\n",
       "      <td>0.0</td>\n",
       "      <td>21.0</td>\n",
       "      <td>0.0</td>\n",
       "      <td>32.647059</td>\n",
       "      <td>61.258235</td>\n",
       "      <td>87.0</td>\n",
       "      <td>240.0</td>\n",
       "      <td>271.0</td>\n",
       "      <td>...</td>\n",
       "      <td>12 OZ</td>\n",
       "      <td>3.258206</td>\n",
       "      <td>663.0</td>\n",
       "      <td>NaN</td>\n",
       "      <td>NaN</td>\n",
       "      <td>NaN</td>\n",
       "      <td>NaN</td>\n",
       "      <td>NaN</td>\n",
       "      <td>NaN</td>\n",
       "      <td>NaN</td>\n",
       "    </tr>\n",
       "  </tbody>\n",
       "</table>\n",
       "<p>2 rows × 32 columns</p>\n",
       "</div>"
      ],
      "text/plain": [
       "   user_id  item_id  target  median_sales_hour  median_weekday  \\\n",
       "0      628  1029743     1.0               18.5             4.0   \n",
       "1      628  8090521     0.0               21.0             0.0   \n",
       "\n",
       "   mean_visits_interval  mean_check  n_stores  n_items  n_transactions  ...  \\\n",
       "0             32.647059   61.258235     113.0    240.0           271.0  ...   \n",
       "1             32.647059   61.258235      87.0    240.0           271.0  ...   \n",
       "\n",
       "   curr_size_of_product     price  last_sales_day  marital_status_code  \\\n",
       "0                  1 GA  2.412823           663.0                  NaN   \n",
       "1                 12 OZ  3.258206           663.0                  NaN   \n",
       "\n",
       "   homeowner_desc  hh_comp_desc  has_kid  income  age household_size  \n",
       "0             NaN           NaN      NaN     NaN  NaN            NaN  \n",
       "1             NaN           NaN      NaN     NaN  NaN            NaN  \n",
       "\n",
       "[2 rows x 32 columns]"
      ]
     },
     "execution_count": 33,
     "metadata": {},
     "output_type": "execute_result"
    }
   ],
   "source": [
    "targets_lvl_2 = targets_lvl_2.merge(usr_itm_feats, on=['user_id', 'item_id'], how='left')\n",
    "targets_lvl_2 = targets_lvl_2.merge(item_features, on='item_id', how='left')\n",
    "targets_lvl_2 = targets_lvl_2.merge(user_features, on='user_id', how='left')\n",
    "\n",
    "targets_lvl_2.head(2)"
   ]
  },
  {
   "cell_type": "code",
   "execution_count": 34,
   "metadata": {},
   "outputs": [],
   "source": [
    "TASK = Task(name='binary', metric=lambda y_true, y_pred: f1_score(y_true, (y_pred > 0.5)*1), greater_is_better=False)\n",
    "TIMEOUT = 300000\n",
    "N_THREADS = 4\n",
    "N_FOLDS = 5\n",
    "RANDOM_STATE = 42\n",
    "TARGET_NAME = 'target'\n",
    "TEST_SIZE=0.2"
   ]
  },
  {
   "cell_type": "code",
   "execution_count": 35,
   "metadata": {},
   "outputs": [],
   "source": [
    "roles = {'target': TARGET_NAME, 'drop': ['user_id, item_id']}"
   ]
  },
  {
   "cell_type": "code",
   "execution_count": 36,
   "metadata": {},
   "outputs": [],
   "source": [
    "automl_model = TabularAutoML(task=TASK,\n",
    "                             timeout=TIMEOUT,\n",
    "                             cpu_limit = N_THREADS,\n",
    "                             gpu_ids='all',\n",
    "                             reader_params = {'n_jobs': N_THREADS, 'cv': N_FOLDS, 'random_state': RANDOM_STATE},\n",
    "                             general_params={'use_algos': [['lgb_tuned', 'cb_tuned', 'cb', 'lgb'], ['lgb_tuned', 'cb']]},\n",
    "                             tuning_params={'max_tuning_iter': 10},\n",
    "                            )"
   ]
  },
  {
   "cell_type": "code",
   "execution_count": 37,
   "metadata": {},
   "outputs": [
    {
     "name": "stderr",
     "output_type": "stream",
     "text": [
      "INFO:optuna.storages._in_memory:A new study created in memory with name: no-name-1b1ce116-636f-411a-8eb7-6b9258b2e726\n",
      "INFO:optuna.study.study:Trial 0 finished with value: -0.0 and parameters: {'feature_fraction': 0.6872700594236812, 'num_leaves': 244}. Best is trial 0 with value: -0.0.\n",
      "INFO:optuna.study.study:Trial 1 finished with value: -0.0 and parameters: {'feature_fraction': 0.8659969709057025, 'num_leaves': 159}. Best is trial 0 with value: -0.0.\n",
      "INFO:optuna.study.study:Trial 2 finished with value: -0.0 and parameters: {'feature_fraction': 0.5780093202212182, 'num_leaves': 53}. Best is trial 0 with value: -0.0.\n",
      "INFO:optuna.study.study:Trial 3 finished with value: -0.0 and parameters: {'feature_fraction': 0.5290418060840998, 'num_leaves': 223}. Best is trial 0 with value: -0.0.\n",
      "INFO:optuna.study.study:Trial 4 finished with value: -0.0 and parameters: {'feature_fraction': 0.8005575058716043, 'num_leaves': 185}. Best is trial 0 with value: -0.0.\n",
      "INFO:optuna.study.study:Trial 5 finished with value: -0.0 and parameters: {'feature_fraction': 0.5102922471479012, 'num_leaves': 248}. Best is trial 0 with value: -0.0.\n",
      "INFO:optuna.study.study:Trial 6 finished with value: -0.0 and parameters: {'feature_fraction': 0.9162213204002109, 'num_leaves': 66}. Best is trial 0 with value: -0.0.\n",
      "INFO:optuna.study.study:Trial 7 finished with value: -0.0 and parameters: {'feature_fraction': 0.5909124836035503, 'num_leaves': 60}. Best is trial 0 with value: -0.0.\n",
      "INFO:optuna.study.study:Trial 8 finished with value: -0.0 and parameters: {'feature_fraction': 0.6521211214797689, 'num_leaves': 141}. Best is trial 0 with value: -0.0.\n",
      "INFO:optuna.study.study:Trial 9 finished with value: -0.0 and parameters: {'feature_fraction': 0.7159725093210578, 'num_leaves': 85}. Best is trial 0 with value: -0.0.\n",
      "INFO:optuna.storages._in_memory:A new study created in memory with name: no-name-9afc7bbe-fc6e-498c-9de3-4b22e3942d8c\n",
      "INFO:optuna.study.study:Trial 0 finished with value: -0.8805525035316277 and parameters: {'max_depth': 4, 'nan_mode': 'Max'}. Best is trial 0 with value: -0.8805525035316277.\n",
      "INFO:optuna.study.study:Trial 1 finished with value: -0.8845610177477619 and parameters: {'max_depth': 5, 'nan_mode': 'Max'}. Best is trial 0 with value: -0.8805525035316277.\n",
      "INFO:optuna.study.study:Trial 2 finished with value: -0.8742589703588145 and parameters: {'max_depth': 3, 'nan_mode': 'Max'}. Best is trial 2 with value: -0.8742589703588145.\n",
      "INFO:optuna.study.study:Trial 3 finished with value: -0.8862708136977694 and parameters: {'max_depth': 6, 'nan_mode': 'Min'}. Best is trial 2 with value: -0.8742589703588145.\n",
      "INFO:optuna.study.study:Trial 4 finished with value: -0.8878768844221107 and parameters: {'max_depth': 7, 'nan_mode': 'Max'}. Best is trial 2 with value: -0.8742589703588145.\n",
      "INFO:optuna.study.study:Trial 5 finished with value: -0.878797369245224 and parameters: {'max_depth': 3, 'nan_mode': 'Min'}. Best is trial 2 with value: -0.8742589703588145.\n",
      "INFO:optuna.study.study:Trial 6 finished with value: -0.8809523809523809 and parameters: {'max_depth': 5, 'nan_mode': 'Min'}. Best is trial 2 with value: -0.8742589703588145.\n",
      "INFO:optuna.study.study:Trial 7 finished with value: -0.878797369245224 and parameters: {'max_depth': 3, 'nan_mode': 'Min'}. Best is trial 2 with value: -0.8742589703588145.\n",
      "INFO:optuna.study.study:Trial 8 finished with value: -0.8845610177477619 and parameters: {'max_depth': 5, 'nan_mode': 'Max'}. Best is trial 2 with value: -0.8742589703588145.\n",
      "INFO:optuna.study.study:Trial 9 finished with value: -0.8845610177477619 and parameters: {'max_depth': 5, 'nan_mode': 'Max'}. Best is trial 2 with value: -0.8742589703588145.\n",
      "INFO:optuna.storages._in_memory:A new study created in memory with name: no-name-1c8d9d9b-3675-4ee5-9398-c60f764534df\n",
      "INFO:optuna.study.study:Trial 0 finished with value: -0.0 and parameters: {'feature_fraction': 0.6872700594236812, 'num_leaves': 244}. Best is trial 0 with value: -0.0.\n",
      "INFO:optuna.study.study:Trial 1 finished with value: -0.0 and parameters: {'feature_fraction': 0.8659969709057025, 'num_leaves': 159}. Best is trial 0 with value: -0.0.\n",
      "INFO:optuna.study.study:Trial 2 finished with value: -0.0 and parameters: {'feature_fraction': 0.5780093202212182, 'num_leaves': 53}. Best is trial 0 with value: -0.0.\n",
      "INFO:optuna.study.study:Trial 3 finished with value: -0.0 and parameters: {'feature_fraction': 0.5290418060840998, 'num_leaves': 223}. Best is trial 0 with value: -0.0.\n",
      "INFO:optuna.study.study:Trial 4 finished with value: -0.0 and parameters: {'feature_fraction': 0.8005575058716043, 'num_leaves': 185}. Best is trial 0 with value: -0.0.\n",
      "INFO:optuna.study.study:Trial 5 finished with value: -0.0 and parameters: {'feature_fraction': 0.5102922471479012, 'num_leaves': 248}. Best is trial 0 with value: -0.0.\n",
      "INFO:optuna.study.study:Trial 6 finished with value: -0.0 and parameters: {'feature_fraction': 0.9162213204002109, 'num_leaves': 66}. Best is trial 0 with value: -0.0.\n",
      "INFO:optuna.study.study:Trial 7 finished with value: -0.0 and parameters: {'feature_fraction': 0.5909124836035503, 'num_leaves': 60}. Best is trial 0 with value: -0.0.\n",
      "INFO:optuna.study.study:Trial 8 finished with value: -0.0 and parameters: {'feature_fraction': 0.6521211214797689, 'num_leaves': 141}. Best is trial 0 with value: -0.0.\n",
      "INFO:optuna.study.study:Trial 9 finished with value: -0.0 and parameters: {'feature_fraction': 0.7159725093210578, 'num_leaves': 85}. Best is trial 0 with value: -0.0.\n"
     ]
    }
   ],
   "source": [
    "oof_pred = automl_model.fit_predict(targets_lvl_2, roles=roles)"
   ]
  },
  {
   "cell_type": "code",
   "execution_count": 38,
   "metadata": {},
   "outputs": [],
   "source": [
    "train_pred = automl_model.predict(targets_lvl_2)"
   ]
  },
  {
   "cell_type": "code",
   "execution_count": 39,
   "metadata": {},
   "outputs": [
    {
     "data": {
      "text/plain": [
       "0.6999539999163634"
      ]
     },
     "execution_count": 39,
     "metadata": {},
     "output_type": "execute_result"
    }
   ],
   "source": [
    "f1_score(targets_lvl_2[['target']], (train_pred.data[:, 0] > 0.4)*1)"
   ]
  },
  {
   "cell_type": "markdown",
   "metadata": {},
   "source": [
    "__Валидация модели 2-го уровня__"
   ]
  },
  {
   "cell_type": "code",
   "execution_count": 40,
   "metadata": {},
   "outputs": [
    {
     "name": "stdout",
     "output_type": "stream",
     "text": [
      "Get recommendations error. Return top. User ID: 1984\n",
      "Get recommendations error. Return top. User ID: 2259\n"
     ]
    }
   ],
   "source": [
    "users_lvl_2_val = pd.DataFrame(data_val_lvl_2['user_id'].unique())\n",
    "users_lvl_2_val.columns = ['user_id']\n",
    "\n",
    "users_lvl_2_val['candidates'] = users_lvl_2_val['user_id'].apply(lambda x: recommender.get_als_recommendations(x, N=100))"
   ]
  },
  {
   "cell_type": "code",
   "execution_count": 41,
   "metadata": {},
   "outputs": [
    {
     "data": {
      "text/html": [
       "<div>\n",
       "<style scoped>\n",
       "    .dataframe tbody tr th:only-of-type {\n",
       "        vertical-align: middle;\n",
       "    }\n",
       "\n",
       "    .dataframe tbody tr th {\n",
       "        vertical-align: top;\n",
       "    }\n",
       "\n",
       "    .dataframe thead th {\n",
       "        text-align: right;\n",
       "    }\n",
       "</style>\n",
       "<table border=\"1\" class=\"dataframe\">\n",
       "  <thead>\n",
       "    <tr style=\"text-align: right;\">\n",
       "      <th></th>\n",
       "      <th>user_id</th>\n",
       "      <th>candidates</th>\n",
       "    </tr>\n",
       "  </thead>\n",
       "  <tbody>\n",
       "    <tr>\n",
       "      <th>0</th>\n",
       "      <td>800</td>\n",
       "      <td>[5569471, 916122, 857503, 999858, 897954, 5568...</td>\n",
       "    </tr>\n",
       "    <tr>\n",
       "      <th>1</th>\n",
       "      <td>1985</td>\n",
       "      <td>[1004906, 961979, 1043751, 8090440, 866211, 10...</td>\n",
       "    </tr>\n",
       "  </tbody>\n",
       "</table>\n",
       "</div>"
      ],
      "text/plain": [
       "   user_id                                         candidates\n",
       "0      800  [5569471, 916122, 857503, 999858, 897954, 5568...\n",
       "1     1985  [1004906, 961979, 1043751, 8090440, 866211, 10..."
      ]
     },
     "execution_count": 41,
     "metadata": {},
     "output_type": "execute_result"
    }
   ],
   "source": [
    "users_lvl_2_val.head(2)"
   ]
  },
  {
   "cell_type": "code",
   "execution_count": 42,
   "metadata": {},
   "outputs": [
    {
     "data": {
      "text/html": [
       "<div>\n",
       "<style scoped>\n",
       "    .dataframe tbody tr th:only-of-type {\n",
       "        vertical-align: middle;\n",
       "    }\n",
       "\n",
       "    .dataframe tbody tr th {\n",
       "        vertical-align: top;\n",
       "    }\n",
       "\n",
       "    .dataframe thead th {\n",
       "        text-align: right;\n",
       "    }\n",
       "</style>\n",
       "<table border=\"1\" class=\"dataframe\">\n",
       "  <thead>\n",
       "    <tr style=\"text-align: right;\">\n",
       "      <th></th>\n",
       "      <th>user_id</th>\n",
       "      <th>item_id</th>\n",
       "    </tr>\n",
       "  </thead>\n",
       "  <tbody>\n",
       "    <tr>\n",
       "      <th>0</th>\n",
       "      <td>800</td>\n",
       "      <td>5569471</td>\n",
       "    </tr>\n",
       "    <tr>\n",
       "      <th>0</th>\n",
       "      <td>800</td>\n",
       "      <td>916122</td>\n",
       "    </tr>\n",
       "    <tr>\n",
       "      <th>0</th>\n",
       "      <td>800</td>\n",
       "      <td>857503</td>\n",
       "    </tr>\n",
       "    <tr>\n",
       "      <th>0</th>\n",
       "      <td>800</td>\n",
       "      <td>999858</td>\n",
       "    </tr>\n",
       "    <tr>\n",
       "      <th>0</th>\n",
       "      <td>800</td>\n",
       "      <td>897954</td>\n",
       "    </tr>\n",
       "  </tbody>\n",
       "</table>\n",
       "</div>"
      ],
      "text/plain": [
       "   user_id  item_id\n",
       "0      800  5569471\n",
       "0      800   916122\n",
       "0      800   857503\n",
       "0      800   999858\n",
       "0      800   897954"
      ]
     },
     "execution_count": 42,
     "metadata": {},
     "output_type": "execute_result"
    }
   ],
   "source": [
    "s_val = users_lvl_2_val.apply(lambda x: pd.Series(x['candidates']), axis=1).stack().reset_index(level=1, drop=True)\n",
    "s_val.name = 'item_id'\n",
    "\n",
    "users_lvl_2_val = users_lvl_2_val.drop('candidates', axis=1).join(s_val)\n",
    "users_lvl_2_val.head()"
   ]
  },
  {
   "cell_type": "code",
   "execution_count": 43,
   "metadata": {},
   "outputs": [],
   "source": [
    "targets_lvl_2_val = data_val_lvl_2[['user_id', 'item_id']].copy()\n",
    "targets_lvl_2_val['target'] = 1  # тут только покупки \n",
    "\n",
    "targets_lvl_2_val = users_lvl_2_val.merge(targets_lvl_2_val, on=['user_id', 'item_id'], how='left')\n",
    "\n",
    "targets_lvl_2_val['target'].fillna(0, inplace= True)"
   ]
  },
  {
   "cell_type": "code",
   "execution_count": 44,
   "metadata": {},
   "outputs": [
    {
     "data": {
      "text/html": [
       "<div>\n",
       "<style scoped>\n",
       "    .dataframe tbody tr th:only-of-type {\n",
       "        vertical-align: middle;\n",
       "    }\n",
       "\n",
       "    .dataframe tbody tr th {\n",
       "        vertical-align: top;\n",
       "    }\n",
       "\n",
       "    .dataframe thead th {\n",
       "        text-align: right;\n",
       "    }\n",
       "</style>\n",
       "<table border=\"1\" class=\"dataframe\">\n",
       "  <thead>\n",
       "    <tr style=\"text-align: right;\">\n",
       "      <th></th>\n",
       "      <th>user_id</th>\n",
       "      <th>item_id</th>\n",
       "      <th>target</th>\n",
       "      <th>median_sales_hour</th>\n",
       "      <th>median_weekday</th>\n",
       "      <th>mean_visits_interval</th>\n",
       "      <th>mean_check</th>\n",
       "      <th>n_stores</th>\n",
       "      <th>n_items</th>\n",
       "      <th>n_transactions</th>\n",
       "      <th>...</th>\n",
       "      <th>curr_size_of_product</th>\n",
       "      <th>price</th>\n",
       "      <th>last_sales_day</th>\n",
       "      <th>marital_status_code</th>\n",
       "      <th>homeowner_desc</th>\n",
       "      <th>hh_comp_desc</th>\n",
       "      <th>has_kid</th>\n",
       "      <th>income</th>\n",
       "      <th>age</th>\n",
       "      <th>household_size</th>\n",
       "    </tr>\n",
       "  </thead>\n",
       "  <tbody>\n",
       "    <tr>\n",
       "      <th>0</th>\n",
       "      <td>800</td>\n",
       "      <td>5569471</td>\n",
       "      <td>0.0</td>\n",
       "      <td>17.5</td>\n",
       "      <td>2.5</td>\n",
       "      <td>1.784483</td>\n",
       "      <td>23.584289</td>\n",
       "      <td>108.0</td>\n",
       "      <td>1212.0</td>\n",
       "      <td>3966.0</td>\n",
       "      <td>...</td>\n",
       "      <td>12 OZ</td>\n",
       "      <td>3.195904</td>\n",
       "      <td>663.0</td>\n",
       "      <td>A</td>\n",
       "      <td>Homeowner</td>\n",
       "      <td>2 Adults No Kids</td>\n",
       "      <td>False</td>\n",
       "      <td>4</td>\n",
       "      <td>2</td>\n",
       "      <td>2</td>\n",
       "    </tr>\n",
       "    <tr>\n",
       "      <th>1</th>\n",
       "      <td>800</td>\n",
       "      <td>916122</td>\n",
       "      <td>0.0</td>\n",
       "      <td>15.5</td>\n",
       "      <td>4.0</td>\n",
       "      <td>1.784483</td>\n",
       "      <td>23.584289</td>\n",
       "      <td>112.0</td>\n",
       "      <td>1212.0</td>\n",
       "      <td>3966.0</td>\n",
       "      <td>...</td>\n",
       "      <td></td>\n",
       "      <td>4.290817</td>\n",
       "      <td>663.0</td>\n",
       "      <td>A</td>\n",
       "      <td>Homeowner</td>\n",
       "      <td>2 Adults No Kids</td>\n",
       "      <td>False</td>\n",
       "      <td>4</td>\n",
       "      <td>2</td>\n",
       "      <td>2</td>\n",
       "    </tr>\n",
       "  </tbody>\n",
       "</table>\n",
       "<p>2 rows × 32 columns</p>\n",
       "</div>"
      ],
      "text/plain": [
       "   user_id  item_id  target  median_sales_hour  median_weekday  \\\n",
       "0      800  5569471     0.0               17.5             2.5   \n",
       "1      800   916122     0.0               15.5             4.0   \n",
       "\n",
       "   mean_visits_interval  mean_check  n_stores  n_items  n_transactions  ...  \\\n",
       "0              1.784483   23.584289     108.0   1212.0          3966.0  ...   \n",
       "1              1.784483   23.584289     112.0   1212.0          3966.0  ...   \n",
       "\n",
       "   curr_size_of_product     price  last_sales_day  marital_status_code  \\\n",
       "0                 12 OZ  3.195904           663.0                    A   \n",
       "1                        4.290817           663.0                    A   \n",
       "\n",
       "   homeowner_desc      hh_comp_desc  has_kid  income age household_size  \n",
       "0       Homeowner  2 Adults No Kids    False       4   2              2  \n",
       "1       Homeowner  2 Adults No Kids    False       4   2              2  \n",
       "\n",
       "[2 rows x 32 columns]"
      ]
     },
     "execution_count": 44,
     "metadata": {},
     "output_type": "execute_result"
    }
   ],
   "source": [
    "targets_lvl_2_val = targets_lvl_2_val.merge(usr_itm_feats, on=['user_id', 'item_id'], how='left')\n",
    "targets_lvl_2_val = targets_lvl_2_val.merge(item_features, on='item_id', how='left')\n",
    "targets_lvl_2_val = targets_lvl_2_val.merge(user_features, on='user_id', how='left')\n",
    "\n",
    "targets_lvl_2_val.head(2)"
   ]
  },
  {
   "cell_type": "code",
   "execution_count": 45,
   "metadata": {},
   "outputs": [
    {
     "data": {
      "text/plain": [
       "0.0    195544\n",
       "1.0     11121\n",
       "Name: target, dtype: int64"
      ]
     },
     "execution_count": 45,
     "metadata": {},
     "output_type": "execute_result"
    }
   ],
   "source": [
    "targets_lvl_2_val['target'].value_counts()"
   ]
  },
  {
   "cell_type": "code",
   "execution_count": 46,
   "metadata": {},
   "outputs": [],
   "source": [
    "test_pred = automl_model.predict(targets_lvl_2_val)"
   ]
  },
  {
   "cell_type": "code",
   "execution_count": 47,
   "metadata": {},
   "outputs": [
    {
     "data": {
      "text/plain": [
       "0.17141541472399702"
      ]
     },
     "execution_count": 47,
     "metadata": {},
     "output_type": "execute_result"
    }
   ],
   "source": [
    "f1_score(targets_lvl_2_val[['target']], (test_pred.data[:, 0] > 0.4)*1)"
   ]
  },
  {
   "cell_type": "code",
   "execution_count": 48,
   "metadata": {},
   "outputs": [
    {
     "name": "stderr",
     "output_type": "stream",
     "text": [
      "<ipython-input-48-f38f12aef1d8>:2: SettingWithCopyWarning: \n",
      "A value is trying to be set on a copy of a slice from a DataFrame.\n",
      "Try using .loc[row_indexer,col_indexer] = value instead\n",
      "\n",
      "See the caveats in the documentation: https://pandas.pydata.org/pandas-docs/stable/user_guide/indexing.html#returning-a-view-versus-a-copy\n",
      "  automl_model_res['preds_proba'] = test_pred.data[:, 0]\n"
     ]
    },
    {
     "data": {
      "text/html": [
       "<div>\n",
       "<style scoped>\n",
       "    .dataframe tbody tr th:only-of-type {\n",
       "        vertical-align: middle;\n",
       "    }\n",
       "\n",
       "    .dataframe tbody tr th {\n",
       "        vertical-align: top;\n",
       "    }\n",
       "\n",
       "    .dataframe thead th {\n",
       "        text-align: right;\n",
       "    }\n",
       "</style>\n",
       "<table border=\"1\" class=\"dataframe\">\n",
       "  <thead>\n",
       "    <tr style=\"text-align: right;\">\n",
       "      <th></th>\n",
       "      <th>user_id</th>\n",
       "      <th>item_id</th>\n",
       "      <th>preds_proba</th>\n",
       "    </tr>\n",
       "  </thead>\n",
       "  <tbody>\n",
       "    <tr>\n",
       "      <th>88966</th>\n",
       "      <td>1</td>\n",
       "      <td>1082212</td>\n",
       "      <td>0.421325</td>\n",
       "    </tr>\n",
       "    <tr>\n",
       "      <th>88973</th>\n",
       "      <td>1</td>\n",
       "      <td>872137</td>\n",
       "      <td>0.412268</td>\n",
       "    </tr>\n",
       "    <tr>\n",
       "      <th>88952</th>\n",
       "      <td>1</td>\n",
       "      <td>10149640</td>\n",
       "      <td>0.408434</td>\n",
       "    </tr>\n",
       "    <tr>\n",
       "      <th>88930</th>\n",
       "      <td>1</td>\n",
       "      <td>940947</td>\n",
       "      <td>0.403087</td>\n",
       "    </tr>\n",
       "    <tr>\n",
       "      <th>88950</th>\n",
       "      <td>1</td>\n",
       "      <td>878285</td>\n",
       "      <td>0.397623</td>\n",
       "    </tr>\n",
       "    <tr>\n",
       "      <th>88955</th>\n",
       "      <td>1</td>\n",
       "      <td>1102067</td>\n",
       "      <td>0.396790</td>\n",
       "    </tr>\n",
       "    <tr>\n",
       "      <th>88961</th>\n",
       "      <td>1</td>\n",
       "      <td>856942</td>\n",
       "      <td>0.351457</td>\n",
       "    </tr>\n",
       "    <tr>\n",
       "      <th>88962</th>\n",
       "      <td>1</td>\n",
       "      <td>856942</td>\n",
       "      <td>0.351457</td>\n",
       "    </tr>\n",
       "    <tr>\n",
       "      <th>88931</th>\n",
       "      <td>1</td>\n",
       "      <td>1041796</td>\n",
       "      <td>0.325358</td>\n",
       "    </tr>\n",
       "    <tr>\n",
       "      <th>88965</th>\n",
       "      <td>1</td>\n",
       "      <td>1115576</td>\n",
       "      <td>0.322232</td>\n",
       "    </tr>\n",
       "  </tbody>\n",
       "</table>\n",
       "</div>"
      ],
      "text/plain": [
       "       user_id   item_id  preds_proba\n",
       "88966        1   1082212     0.421325\n",
       "88973        1    872137     0.412268\n",
       "88952        1  10149640     0.408434\n",
       "88930        1    940947     0.403087\n",
       "88950        1    878285     0.397623\n",
       "88955        1   1102067     0.396790\n",
       "88961        1    856942     0.351457\n",
       "88962        1    856942     0.351457\n",
       "88931        1   1041796     0.325358\n",
       "88965        1   1115576     0.322232"
      ]
     },
     "execution_count": 48,
     "metadata": {},
     "output_type": "execute_result"
    }
   ],
   "source": [
    "automl_model_res = targets_lvl_2_val[['user_id', 'item_id']]\n",
    "automl_model_res['preds_proba'] = test_pred.data[:, 0]\n",
    "\n",
    "automl_model_res = automl_model_res.sort_values('preds_proba', ascending=False)\n",
    "\n",
    "automl_model_res[automl_model_res['user_id']==1].head(10)"
   ]
  },
  {
   "cell_type": "code",
   "execution_count": 49,
   "metadata": {},
   "outputs": [
    {
     "data": {
      "text/html": [
       "<div>\n",
       "<style scoped>\n",
       "    .dataframe tbody tr th:only-of-type {\n",
       "        vertical-align: middle;\n",
       "    }\n",
       "\n",
       "    .dataframe tbody tr th {\n",
       "        vertical-align: top;\n",
       "    }\n",
       "\n",
       "    .dataframe thead th {\n",
       "        text-align: right;\n",
       "    }\n",
       "</style>\n",
       "<table border=\"1\" class=\"dataframe\">\n",
       "  <thead>\n",
       "    <tr style=\"text-align: right;\">\n",
       "      <th></th>\n",
       "      <th>user_id</th>\n",
       "      <th>item_id</th>\n",
       "    </tr>\n",
       "  </thead>\n",
       "  <tbody>\n",
       "    <tr>\n",
       "      <th>0</th>\n",
       "      <td>1</td>\n",
       "      <td>[1082212, 872137, 10149640, 940947, 878285, 11...</td>\n",
       "    </tr>\n",
       "    <tr>\n",
       "      <th>1</th>\n",
       "      <td>3</td>\n",
       "      <td>[1106523, 983584, 899624, 866211, 1044078, 110...</td>\n",
       "    </tr>\n",
       "    <tr>\n",
       "      <th>2</th>\n",
       "      <td>6</td>\n",
       "      <td>[1098844, 1082185, 6548453, 878996, 12301109, ...</td>\n",
       "    </tr>\n",
       "    <tr>\n",
       "      <th>3</th>\n",
       "      <td>7</td>\n",
       "      <td>[993638, 1126899, 1106523, 909714, 1122358, 98...</td>\n",
       "    </tr>\n",
       "    <tr>\n",
       "      <th>4</th>\n",
       "      <td>8</td>\n",
       "      <td>[1044078, 12301839, 1029743, 1068719, 1105301,...</td>\n",
       "    </tr>\n",
       "  </tbody>\n",
       "</table>\n",
       "</div>"
      ],
      "text/plain": [
       "   user_id                                            item_id\n",
       "0        1  [1082212, 872137, 10149640, 940947, 878285, 11...\n",
       "1        3  [1106523, 983584, 899624, 866211, 1044078, 110...\n",
       "2        6  [1098844, 1082185, 6548453, 878996, 12301109, ...\n",
       "3        7  [993638, 1126899, 1106523, 909714, 1122358, 98...\n",
       "4        8  [1044078, 12301839, 1029743, 1068719, 1105301,..."
      ]
     },
     "execution_count": 49,
     "metadata": {},
     "output_type": "execute_result"
    }
   ],
   "source": [
    "automl_model_res = automl_model_res.groupby('user_id')['item_id'].unique().reset_index()\n",
    "automl_model_res.head()"
   ]
  },
  {
   "cell_type": "code",
   "execution_count": 50,
   "metadata": {},
   "outputs": [
    {
     "data": {
      "text/html": [
       "<div>\n",
       "<style scoped>\n",
       "    .dataframe tbody tr th:only-of-type {\n",
       "        vertical-align: middle;\n",
       "    }\n",
       "\n",
       "    .dataframe tbody tr th {\n",
       "        vertical-align: top;\n",
       "    }\n",
       "\n",
       "    .dataframe thead th {\n",
       "        text-align: right;\n",
       "    }\n",
       "</style>\n",
       "<table border=\"1\" class=\"dataframe\">\n",
       "  <thead>\n",
       "    <tr style=\"text-align: right;\">\n",
       "      <th></th>\n",
       "      <th>user_id</th>\n",
       "      <th>actual</th>\n",
       "      <th>item_id</th>\n",
       "      <th>pr</th>\n",
       "    </tr>\n",
       "  </thead>\n",
       "  <tbody>\n",
       "    <tr>\n",
       "      <th>0</th>\n",
       "      <td>1</td>\n",
       "      <td>[13876341, 15971874, 17178953, 6534544, 113277...</td>\n",
       "      <td>[1082212, 872137, 10149640, 940947, 878285, 11...</td>\n",
       "      <td>0.2</td>\n",
       "    </tr>\n",
       "    <tr>\n",
       "      <th>1</th>\n",
       "      <td>3</td>\n",
       "      <td>[851057, 13842214, 9526886, 9526563, 7167249, ...</td>\n",
       "      <td>[1106523, 983584, 899624, 866211, 1044078, 110...</td>\n",
       "      <td>0.0</td>\n",
       "    </tr>\n",
       "    <tr>\n",
       "      <th>2</th>\n",
       "      <td>6</td>\n",
       "      <td>[920308, 946489, 926804, 17105539, 13776852, 1...</td>\n",
       "      <td>[1098844, 1082185, 6548453, 878996, 12301109, ...</td>\n",
       "      <td>0.0</td>\n",
       "    </tr>\n",
       "    <tr>\n",
       "      <th>3</th>\n",
       "      <td>7</td>\n",
       "      <td>[909714, 929067, 953476, 954543, 976998, 99383...</td>\n",
       "      <td>[993638, 1126899, 1106523, 909714, 1122358, 98...</td>\n",
       "      <td>0.8</td>\n",
       "    </tr>\n",
       "    <tr>\n",
       "      <th>4</th>\n",
       "      <td>8</td>\n",
       "      <td>[15629920, 13071586, 9337581, 9337369, 5569471...</td>\n",
       "      <td>[1044078, 12301839, 1029743, 1068719, 1105301,...</td>\n",
       "      <td>0.2</td>\n",
       "    </tr>\n",
       "  </tbody>\n",
       "</table>\n",
       "</div>"
      ],
      "text/plain": [
       "   user_id                                             actual  \\\n",
       "0        1  [13876341, 15971874, 17178953, 6534544, 113277...   \n",
       "1        3  [851057, 13842214, 9526886, 9526563, 7167249, ...   \n",
       "2        6  [920308, 946489, 926804, 17105539, 13776852, 1...   \n",
       "3        7  [909714, 929067, 953476, 954543, 976998, 99383...   \n",
       "4        8  [15629920, 13071586, 9337581, 9337369, 5569471...   \n",
       "\n",
       "                                             item_id   pr  \n",
       "0  [1082212, 872137, 10149640, 940947, 878285, 11...  0.2  \n",
       "1  [1106523, 983584, 899624, 866211, 1044078, 110...  0.0  \n",
       "2  [1098844, 1082185, 6548453, 878996, 12301109, ...  0.0  \n",
       "3  [993638, 1126899, 1106523, 909714, 1122358, 98...  0.8  \n",
       "4  [1044078, 12301839, 1029743, 1068719, 1105301,...  0.2  "
      ]
     },
     "execution_count": 50,
     "metadata": {},
     "output_type": "execute_result"
    }
   ],
   "source": [
    "result_lvl_2_val = data_val_lvl_2.groupby('user_id')['item_id'].unique().reset_index()\n",
    "result_lvl_2_val.columns=['user_id', 'actual']\n",
    "\n",
    "result_lvl_2_val = result_lvl_2_val.merge(automl_model_res, on='user_id', how='left')\n",
    "\n",
    "result_lvl_2_val['pr']=result_lvl_2_val.apply(lambda row: precision_at_k(row['item_id'], row['actual']), axis=1)\n",
    "\n",
    "result_lvl_2_val.head()"
   ]
  },
  {
   "cell_type": "code",
   "execution_count": 51,
   "metadata": {},
   "outputs": [
    {
     "data": {
      "text/plain": [
       "0.2534769833496545"
      ]
     },
     "execution_count": 51,
     "metadata": {},
     "output_type": "execute_result"
    }
   ],
   "source": [
    "result_lvl_2_val['pr'].mean()"
   ]
  },
  {
   "cell_type": "markdown",
   "metadata": {},
   "source": [
    "### 4. Предсказания на retail_test1.csv"
   ]
  },
  {
   "cell_type": "code",
   "execution_count": 52,
   "metadata": {},
   "outputs": [],
   "source": [
    "data_test = pd.read_csv('../data/raw/retail_test1.csv')"
   ]
  },
  {
   "cell_type": "code",
   "execution_count": 53,
   "metadata": {},
   "outputs": [
    {
     "name": "stdout",
     "output_type": "stream",
     "text": [
      "Get recommendations error. Return top. User ID: 2259\n",
      "Get recommendations error. Return top. User ID: 2325\n"
     ]
    }
   ],
   "source": [
    "users_test = pd.DataFrame(data_test['user_id'].unique())\n",
    "users_test.columns = ['user_id']\n",
    "\n",
    "users_test['candidates'] = users_test['user_id'].apply(lambda x: recommender.get_als_recommendations(x, N=100))"
   ]
  },
  {
   "cell_type": "code",
   "execution_count": 54,
   "metadata": {},
   "outputs": [
    {
     "data": {
      "text/html": [
       "<div>\n",
       "<style scoped>\n",
       "    .dataframe tbody tr th:only-of-type {\n",
       "        vertical-align: middle;\n",
       "    }\n",
       "\n",
       "    .dataframe tbody tr th {\n",
       "        vertical-align: top;\n",
       "    }\n",
       "\n",
       "    .dataframe thead th {\n",
       "        text-align: right;\n",
       "    }\n",
       "</style>\n",
       "<table border=\"1\" class=\"dataframe\">\n",
       "  <thead>\n",
       "    <tr style=\"text-align: right;\">\n",
       "      <th></th>\n",
       "      <th>user_id</th>\n",
       "      <th>candidates</th>\n",
       "    </tr>\n",
       "  </thead>\n",
       "  <tbody>\n",
       "    <tr>\n",
       "      <th>0</th>\n",
       "      <td>1340</td>\n",
       "      <td>[844179, 999858, 916122, 1044078, 12301109, 83...</td>\n",
       "    </tr>\n",
       "    <tr>\n",
       "      <th>1</th>\n",
       "      <td>588</td>\n",
       "      <td>[1138443, 1127831, 12810393, 866211, 1068719, ...</td>\n",
       "    </tr>\n",
       "  </tbody>\n",
       "</table>\n",
       "</div>"
      ],
      "text/plain": [
       "   user_id                                         candidates\n",
       "0     1340  [844179, 999858, 916122, 1044078, 12301109, 83...\n",
       "1      588  [1138443, 1127831, 12810393, 866211, 1068719, ..."
      ]
     },
     "execution_count": 54,
     "metadata": {},
     "output_type": "execute_result"
    }
   ],
   "source": [
    "users_test.head(2)"
   ]
  },
  {
   "cell_type": "code",
   "execution_count": 55,
   "metadata": {},
   "outputs": [
    {
     "data": {
      "text/html": [
       "<div>\n",
       "<style scoped>\n",
       "    .dataframe tbody tr th:only-of-type {\n",
       "        vertical-align: middle;\n",
       "    }\n",
       "\n",
       "    .dataframe tbody tr th {\n",
       "        vertical-align: top;\n",
       "    }\n",
       "\n",
       "    .dataframe thead th {\n",
       "        text-align: right;\n",
       "    }\n",
       "</style>\n",
       "<table border=\"1\" class=\"dataframe\">\n",
       "  <thead>\n",
       "    <tr style=\"text-align: right;\">\n",
       "      <th></th>\n",
       "      <th>user_id</th>\n",
       "      <th>item_id</th>\n",
       "    </tr>\n",
       "  </thead>\n",
       "  <tbody>\n",
       "    <tr>\n",
       "      <th>0</th>\n",
       "      <td>1340</td>\n",
       "      <td>844179</td>\n",
       "    </tr>\n",
       "    <tr>\n",
       "      <th>0</th>\n",
       "      <td>1340</td>\n",
       "      <td>999858</td>\n",
       "    </tr>\n",
       "    <tr>\n",
       "      <th>0</th>\n",
       "      <td>1340</td>\n",
       "      <td>916122</td>\n",
       "    </tr>\n",
       "    <tr>\n",
       "      <th>0</th>\n",
       "      <td>1340</td>\n",
       "      <td>1044078</td>\n",
       "    </tr>\n",
       "    <tr>\n",
       "      <th>0</th>\n",
       "      <td>1340</td>\n",
       "      <td>12301109</td>\n",
       "    </tr>\n",
       "  </tbody>\n",
       "</table>\n",
       "</div>"
      ],
      "text/plain": [
       "   user_id   item_id\n",
       "0     1340    844179\n",
       "0     1340    999858\n",
       "0     1340    916122\n",
       "0     1340   1044078\n",
       "0     1340  12301109"
      ]
     },
     "execution_count": 55,
     "metadata": {},
     "output_type": "execute_result"
    }
   ],
   "source": [
    "s_val = users_test.apply(lambda x: pd.Series(x['candidates']), axis=1).stack().reset_index(level=1, drop=True)\n",
    "s_val.name = 'item_id'\n",
    "\n",
    "users_test = users_test.drop('candidates', axis=1).join(s_val)\n",
    "users_test.head()"
   ]
  },
  {
   "cell_type": "code",
   "execution_count": 56,
   "metadata": {},
   "outputs": [],
   "source": [
    "targets_test = data_test[['user_id', 'item_id']].copy()\n",
    "targets_test['target'] = 1  # тут только покупки \n",
    "\n",
    "targets_test = users_test.merge(targets_test, on=['user_id', 'item_id'], how='left')\n",
    "\n",
    "targets_test['target'].fillna(0, inplace= True)"
   ]
  },
  {
   "cell_type": "code",
   "execution_count": 57,
   "metadata": {
    "scrolled": true
   },
   "outputs": [
    {
     "data": {
      "text/html": [
       "<div>\n",
       "<style scoped>\n",
       "    .dataframe tbody tr th:only-of-type {\n",
       "        vertical-align: middle;\n",
       "    }\n",
       "\n",
       "    .dataframe tbody tr th {\n",
       "        vertical-align: top;\n",
       "    }\n",
       "\n",
       "    .dataframe thead th {\n",
       "        text-align: right;\n",
       "    }\n",
       "</style>\n",
       "<table border=\"1\" class=\"dataframe\">\n",
       "  <thead>\n",
       "    <tr style=\"text-align: right;\">\n",
       "      <th></th>\n",
       "      <th>user_id</th>\n",
       "      <th>item_id</th>\n",
       "      <th>target</th>\n",
       "      <th>median_sales_hour</th>\n",
       "      <th>median_weekday</th>\n",
       "      <th>mean_visits_interval</th>\n",
       "      <th>mean_check</th>\n",
       "      <th>n_stores</th>\n",
       "      <th>n_items</th>\n",
       "      <th>n_transactions</th>\n",
       "      <th>...</th>\n",
       "      <th>curr_size_of_product</th>\n",
       "      <th>price</th>\n",
       "      <th>last_sales_day</th>\n",
       "      <th>marital_status_code</th>\n",
       "      <th>homeowner_desc</th>\n",
       "      <th>hh_comp_desc</th>\n",
       "      <th>has_kid</th>\n",
       "      <th>income</th>\n",
       "      <th>age</th>\n",
       "      <th>household_size</th>\n",
       "    </tr>\n",
       "  </thead>\n",
       "  <tbody>\n",
       "    <tr>\n",
       "      <th>0</th>\n",
       "      <td>1340</td>\n",
       "      <td>844179</td>\n",
       "      <td>0.0</td>\n",
       "      <td>NaN</td>\n",
       "      <td>NaN</td>\n",
       "      <td>NaN</td>\n",
       "      <td>NaN</td>\n",
       "      <td>NaN</td>\n",
       "      <td>NaN</td>\n",
       "      <td>NaN</td>\n",
       "      <td>...</td>\n",
       "      <td></td>\n",
       "      <td>3.793924</td>\n",
       "      <td>663.0</td>\n",
       "      <td>NaN</td>\n",
       "      <td>NaN</td>\n",
       "      <td>NaN</td>\n",
       "      <td>NaN</td>\n",
       "      <td>NaN</td>\n",
       "      <td>NaN</td>\n",
       "      <td>NaN</td>\n",
       "    </tr>\n",
       "    <tr>\n",
       "      <th>1</th>\n",
       "      <td>1340</td>\n",
       "      <td>999858</td>\n",
       "      <td>0.0</td>\n",
       "      <td>23.0</td>\n",
       "      <td>6.0</td>\n",
       "      <td>11.346939</td>\n",
       "      <td>8.698462</td>\n",
       "      <td>110.0</td>\n",
       "      <td>148.0</td>\n",
       "      <td>177.0</td>\n",
       "      <td>...</td>\n",
       "      <td></td>\n",
       "      <td>3.867612</td>\n",
       "      <td>663.0</td>\n",
       "      <td>NaN</td>\n",
       "      <td>NaN</td>\n",
       "      <td>NaN</td>\n",
       "      <td>NaN</td>\n",
       "      <td>NaN</td>\n",
       "      <td>NaN</td>\n",
       "      <td>NaN</td>\n",
       "    </tr>\n",
       "  </tbody>\n",
       "</table>\n",
       "<p>2 rows × 32 columns</p>\n",
       "</div>"
      ],
      "text/plain": [
       "   user_id  item_id  target  median_sales_hour  median_weekday  \\\n",
       "0     1340   844179     0.0                NaN             NaN   \n",
       "1     1340   999858     0.0               23.0             6.0   \n",
       "\n",
       "   mean_visits_interval  mean_check  n_stores  n_items  n_transactions  ...  \\\n",
       "0                   NaN         NaN       NaN      NaN             NaN  ...   \n",
       "1             11.346939    8.698462     110.0    148.0           177.0  ...   \n",
       "\n",
       "   curr_size_of_product     price  last_sales_day  marital_status_code  \\\n",
       "0                        3.793924           663.0                  NaN   \n",
       "1                        3.867612           663.0                  NaN   \n",
       "\n",
       "   homeowner_desc  hh_comp_desc  has_kid  income  age household_size  \n",
       "0             NaN           NaN      NaN     NaN  NaN            NaN  \n",
       "1             NaN           NaN      NaN     NaN  NaN            NaN  \n",
       "\n",
       "[2 rows x 32 columns]"
      ]
     },
     "execution_count": 57,
     "metadata": {},
     "output_type": "execute_result"
    }
   ],
   "source": [
    "targets_test = targets_test.merge(usr_itm_feats, on=['user_id', 'item_id'], how='left')\n",
    "targets_test = targets_test.merge(item_features, on='item_id', how='left')\n",
    "targets_test = targets_test.merge(user_features, on='user_id', how='left')\n",
    "\n",
    "targets_test.head(2)"
   ]
  },
  {
   "cell_type": "code",
   "execution_count": 58,
   "metadata": {},
   "outputs": [
    {
     "data": {
      "text/plain": [
       "0.0    181979\n",
       "1.0      7981\n",
       "Name: target, dtype: int64"
      ]
     },
     "execution_count": 58,
     "metadata": {},
     "output_type": "execute_result"
    }
   ],
   "source": [
    "targets_test['target'].value_counts()"
   ]
  },
  {
   "cell_type": "code",
   "execution_count": 59,
   "metadata": {},
   "outputs": [],
   "source": [
    "final_pred = automl_model.predict(targets_test)"
   ]
  },
  {
   "cell_type": "code",
   "execution_count": 60,
   "metadata": {},
   "outputs": [
    {
     "data": {
      "text/plain": [
       "0.2211974820670473"
      ]
     },
     "execution_count": 60,
     "metadata": {},
     "output_type": "execute_result"
    }
   ],
   "source": [
    "f1_score(targets_test[['target']], (final_pred.data[:, 0] > 0.4)*1)"
   ]
  },
  {
   "cell_type": "code",
   "execution_count": 61,
   "metadata": {},
   "outputs": [
    {
     "name": "stderr",
     "output_type": "stream",
     "text": [
      "<ipython-input-61-0622781ef96b>:2: SettingWithCopyWarning: \n",
      "A value is trying to be set on a copy of a slice from a DataFrame.\n",
      "Try using .loc[row_indexer,col_indexer] = value instead\n",
      "\n",
      "See the caveats in the documentation: https://pandas.pydata.org/pandas-docs/stable/user_guide/indexing.html#returning-a-view-versus-a-copy\n",
      "  final_res['preds_proba'] = final_pred.data[:, 0]\n"
     ]
    },
    {
     "data": {
      "text/html": [
       "<div>\n",
       "<style scoped>\n",
       "    .dataframe tbody tr th:only-of-type {\n",
       "        vertical-align: middle;\n",
       "    }\n",
       "\n",
       "    .dataframe tbody tr th {\n",
       "        vertical-align: top;\n",
       "    }\n",
       "\n",
       "    .dataframe thead th {\n",
       "        text-align: right;\n",
       "    }\n",
       "</style>\n",
       "<table border=\"1\" class=\"dataframe\">\n",
       "  <thead>\n",
       "    <tr style=\"text-align: right;\">\n",
       "      <th></th>\n",
       "      <th>user_id</th>\n",
       "      <th>item_id</th>\n",
       "      <th>preds_proba</th>\n",
       "    </tr>\n",
       "  </thead>\n",
       "  <tbody>\n",
       "    <tr>\n",
       "      <th>158478</th>\n",
       "      <td>1</td>\n",
       "      <td>1082212</td>\n",
       "      <td>0.421325</td>\n",
       "    </tr>\n",
       "    <tr>\n",
       "      <th>158485</th>\n",
       "      <td>1</td>\n",
       "      <td>872137</td>\n",
       "      <td>0.412268</td>\n",
       "    </tr>\n",
       "    <tr>\n",
       "      <th>158465</th>\n",
       "      <td>1</td>\n",
       "      <td>10149640</td>\n",
       "      <td>0.408434</td>\n",
       "    </tr>\n",
       "    <tr>\n",
       "      <th>158443</th>\n",
       "      <td>1</td>\n",
       "      <td>940947</td>\n",
       "      <td>0.403087</td>\n",
       "    </tr>\n",
       "    <tr>\n",
       "      <th>158463</th>\n",
       "      <td>1</td>\n",
       "      <td>878285</td>\n",
       "      <td>0.397623</td>\n",
       "    </tr>\n",
       "  </tbody>\n",
       "</table>\n",
       "</div>"
      ],
      "text/plain": [
       "        user_id   item_id  preds_proba\n",
       "158478        1   1082212     0.421325\n",
       "158485        1    872137     0.412268\n",
       "158465        1  10149640     0.408434\n",
       "158443        1    940947     0.403087\n",
       "158463        1    878285     0.397623"
      ]
     },
     "execution_count": 61,
     "metadata": {},
     "output_type": "execute_result"
    }
   ],
   "source": [
    "final_res = targets_test[['user_id', 'item_id']]\n",
    "final_res['preds_proba'] = final_pred.data[:, 0]\n",
    "\n",
    "final_res = final_res.sort_values('preds_proba', ascending=False)\n",
    "\n",
    "final_res[final_res['user_id']==1].head(5)"
   ]
  },
  {
   "cell_type": "code",
   "execution_count": 62,
   "metadata": {},
   "outputs": [
    {
     "data": {
      "text/html": [
       "<div>\n",
       "<style scoped>\n",
       "    .dataframe tbody tr th:only-of-type {\n",
       "        vertical-align: middle;\n",
       "    }\n",
       "\n",
       "    .dataframe tbody tr th {\n",
       "        vertical-align: top;\n",
       "    }\n",
       "\n",
       "    .dataframe thead th {\n",
       "        text-align: right;\n",
       "    }\n",
       "</style>\n",
       "<table border=\"1\" class=\"dataframe\">\n",
       "  <thead>\n",
       "    <tr style=\"text-align: right;\">\n",
       "      <th></th>\n",
       "      <th>user_id</th>\n",
       "      <th>item_id</th>\n",
       "    </tr>\n",
       "  </thead>\n",
       "  <tbody>\n",
       "    <tr>\n",
       "      <th>0</th>\n",
       "      <td>1</td>\n",
       "      <td>[1082212, 872137, 10149640, 940947, 878285, 11...</td>\n",
       "    </tr>\n",
       "    <tr>\n",
       "      <th>1</th>\n",
       "      <td>2</td>\n",
       "      <td>[1106523, 899624, 1082185, 916122, 866211, 828...</td>\n",
       "    </tr>\n",
       "    <tr>\n",
       "      <th>2</th>\n",
       "      <td>3</td>\n",
       "      <td>[1106523, 983584, 899624, 866211, 1044078, 110...</td>\n",
       "    </tr>\n",
       "    <tr>\n",
       "      <th>3</th>\n",
       "      <td>6</td>\n",
       "      <td>[1098844, 1082185, 6548453, 878996, 12301109, ...</td>\n",
       "    </tr>\n",
       "    <tr>\n",
       "      <th>4</th>\n",
       "      <td>7</td>\n",
       "      <td>[993638, 1126899, 1106523, 909714, 1122358, 98...</td>\n",
       "    </tr>\n",
       "  </tbody>\n",
       "</table>\n",
       "</div>"
      ],
      "text/plain": [
       "   user_id                                            item_id\n",
       "0        1  [1082212, 872137, 10149640, 940947, 878285, 11...\n",
       "1        2  [1106523, 899624, 1082185, 916122, 866211, 828...\n",
       "2        3  [1106523, 983584, 899624, 866211, 1044078, 110...\n",
       "3        6  [1098844, 1082185, 6548453, 878996, 12301109, ...\n",
       "4        7  [993638, 1126899, 1106523, 909714, 1122358, 98..."
      ]
     },
     "execution_count": 62,
     "metadata": {},
     "output_type": "execute_result"
    }
   ],
   "source": [
    "final_res = final_res.groupby('user_id')['item_id'].unique().reset_index()\n",
    "final_res.head(5)"
   ]
  },
  {
   "cell_type": "code",
   "execution_count": 63,
   "metadata": {},
   "outputs": [
    {
     "data": {
      "text/html": [
       "<div>\n",
       "<style scoped>\n",
       "    .dataframe tbody tr th:only-of-type {\n",
       "        vertical-align: middle;\n",
       "    }\n",
       "\n",
       "    .dataframe tbody tr th {\n",
       "        vertical-align: top;\n",
       "    }\n",
       "\n",
       "    .dataframe thead th {\n",
       "        text-align: right;\n",
       "    }\n",
       "</style>\n",
       "<table border=\"1\" class=\"dataframe\">\n",
       "  <thead>\n",
       "    <tr style=\"text-align: right;\">\n",
       "      <th></th>\n",
       "      <th>user_id</th>\n",
       "      <th>actual</th>\n",
       "      <th>item_id</th>\n",
       "      <th>pr</th>\n",
       "    </tr>\n",
       "  </thead>\n",
       "  <tbody>\n",
       "    <tr>\n",
       "      <th>0</th>\n",
       "      <td>1</td>\n",
       "      <td>[880007, 883616, 931136, 938004, 940947, 94726...</td>\n",
       "      <td>[1082212, 872137, 10149640, 940947, 878285, 11...</td>\n",
       "      <td>0.2</td>\n",
       "    </tr>\n",
       "    <tr>\n",
       "      <th>1</th>\n",
       "      <td>2</td>\n",
       "      <td>[820165, 820291, 826784, 826835, 829009, 85784...</td>\n",
       "      <td>[1106523, 899624, 1082185, 916122, 866211, 828...</td>\n",
       "      <td>0.4</td>\n",
       "    </tr>\n",
       "    <tr>\n",
       "      <th>2</th>\n",
       "      <td>3</td>\n",
       "      <td>[827683, 908531, 989069, 1071377, 1080155, 109...</td>\n",
       "      <td>[1106523, 983584, 899624, 866211, 1044078, 110...</td>\n",
       "      <td>0.0</td>\n",
       "    </tr>\n",
       "    <tr>\n",
       "      <th>3</th>\n",
       "      <td>6</td>\n",
       "      <td>[956902, 960791, 1037863, 1119051, 1137688, 84...</td>\n",
       "      <td>[1098844, 1082185, 6548453, 878996, 12301109, ...</td>\n",
       "      <td>0.0</td>\n",
       "    </tr>\n",
       "    <tr>\n",
       "      <th>4</th>\n",
       "      <td>7</td>\n",
       "      <td>[847270, 855557, 859987, 863407, 895454, 90663...</td>\n",
       "      <td>[993638, 1126899, 1106523, 909714, 1122358, 98...</td>\n",
       "      <td>0.4</td>\n",
       "    </tr>\n",
       "  </tbody>\n",
       "</table>\n",
       "</div>"
      ],
      "text/plain": [
       "   user_id                                             actual  \\\n",
       "0        1  [880007, 883616, 931136, 938004, 940947, 94726...   \n",
       "1        2  [820165, 820291, 826784, 826835, 829009, 85784...   \n",
       "2        3  [827683, 908531, 989069, 1071377, 1080155, 109...   \n",
       "3        6  [956902, 960791, 1037863, 1119051, 1137688, 84...   \n",
       "4        7  [847270, 855557, 859987, 863407, 895454, 90663...   \n",
       "\n",
       "                                             item_id   pr  \n",
       "0  [1082212, 872137, 10149640, 940947, 878285, 11...  0.2  \n",
       "1  [1106523, 899624, 1082185, 916122, 866211, 828...  0.4  \n",
       "2  [1106523, 983584, 899624, 866211, 1044078, 110...  0.0  \n",
       "3  [1098844, 1082185, 6548453, 878996, 12301109, ...  0.0  \n",
       "4  [993638, 1126899, 1106523, 909714, 1122358, 98...  0.4  "
      ]
     },
     "execution_count": 63,
     "metadata": {},
     "output_type": "execute_result"
    }
   ],
   "source": [
    "result_test = data_test.groupby('user_id')['item_id'].unique().reset_index()\n",
    "result_test.columns=['user_id', 'actual']\n",
    "\n",
    "result_test = result_test.merge(final_res, on='user_id', how='left')\n",
    "\n",
    "result_test['pr']=result_test.apply(lambda row: precision_at_k(row['item_id'], row['actual']), axis=1)\n",
    "\n",
    "result_test.head()"
   ]
  },
  {
   "cell_type": "code",
   "execution_count": 64,
   "metadata": {},
   "outputs": [
    {
     "data": {
      "text/plain": [
       "0.16891246684349945"
      ]
     },
     "execution_count": 64,
     "metadata": {},
     "output_type": "execute_result"
    }
   ],
   "source": [
    "result_test['pr'].mean()"
   ]
  },
  {
   "cell_type": "code",
   "execution_count": 66,
   "metadata": {},
   "outputs": [
    {
     "data": {
      "text/html": [
       "<div>\n",
       "<style scoped>\n",
       "    .dataframe tbody tr th:only-of-type {\n",
       "        vertical-align: middle;\n",
       "    }\n",
       "\n",
       "    .dataframe tbody tr th {\n",
       "        vertical-align: top;\n",
       "    }\n",
       "\n",
       "    .dataframe thead th {\n",
       "        text-align: right;\n",
       "    }\n",
       "</style>\n",
       "<table border=\"1\" class=\"dataframe\">\n",
       "  <thead>\n",
       "    <tr style=\"text-align: right;\">\n",
       "      <th></th>\n",
       "      <th>user_id</th>\n",
       "      <th>rec</th>\n",
       "    </tr>\n",
       "  </thead>\n",
       "  <tbody>\n",
       "    <tr>\n",
       "      <th>0</th>\n",
       "      <td>1</td>\n",
       "      <td>[1082212, 872137, 10149640, 940947, 878285, 11...</td>\n",
       "    </tr>\n",
       "    <tr>\n",
       "      <th>1</th>\n",
       "      <td>2</td>\n",
       "      <td>[1106523, 899624, 1082185, 916122, 866211, 828...</td>\n",
       "    </tr>\n",
       "  </tbody>\n",
       "</table>\n",
       "</div>"
      ],
      "text/plain": [
       "   user_id                                                rec\n",
       "0        1  [1082212, 872137, 10149640, 940947, 878285, 11...\n",
       "1        2  [1106523, 899624, 1082185, 916122, 866211, 828..."
      ]
     },
     "execution_count": 66,
     "metadata": {},
     "output_type": "execute_result"
    }
   ],
   "source": [
    "df = result_test[['user_id', 'item_id']].copy()\n",
    "df.rename(columns = {'item_id':'rec'}, inplace = True)\n",
    "df.to_csv('../recommendations.csv', index=False)\n",
    "df.head(2)"
   ]
  }
 ],
 "metadata": {
  "kernelspec": {
   "display_name": "Python 3",
   "language": "python",
   "name": "python3"
  },
  "language_info": {
   "codemirror_mode": {
    "name": "ipython",
    "version": 3
   },
   "file_extension": ".py",
   "mimetype": "text/x-python",
   "name": "python",
   "nbconvert_exporter": "python",
   "pygments_lexer": "ipython3",
   "version": "3.8.5"
  }
 },
 "nbformat": 4,
 "nbformat_minor": 5
}
